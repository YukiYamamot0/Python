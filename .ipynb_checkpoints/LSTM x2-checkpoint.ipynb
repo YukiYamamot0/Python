{
 "cells": [
  {
   "cell_type": "code",
   "execution_count": 43,
   "metadata": {},
   "outputs": [],
   "source": [
    "import numpy as np\n",
    "from keras.models import Sequential\n",
    "from keras.layers import Dense\n",
    "from keras.layers import LSTM\n",
    "from keras.layers import RepeatVector\n",
    "from keras.layers import TimeDistributed\n",
    "import pandas as pd\n",
    "from matplotlib import pylab as plt\n",
    "import seaborn as sns\n",
    "%matplotlib inline\n",
    "sns.set()\n",
    "\n",
    "xdf1 = pd.read_excel('data/xdata1.xlsx')\n",
    "xdf2 = pd.read_excel('data/xdata2.xlsx')\n",
    "ydf1 = pd.read_excel('data/ydata1.xlsx')\n",
    "ydf2 = pd.read_excel('data/ydata2.xlsx')\n",
    "\n",
    "xts1 = xdf1['#data']\n",
    "yts1 = ydf1['#data']\n",
    "xts2 = xdf2['#data']\n",
    "yts2 = ydf2['#data']"
   ]
  },
  {
   "cell_type": "code",
   "execution_count": 63,
   "metadata": {},
   "outputs": [
    {
     "data": {
      "text/plain": [
       "<keras.callbacks.History at 0x2a05197e970>"
      ]
     },
     "execution_count": 63,
     "metadata": {},
     "output_type": "execute_result"
    }
   ],
   "source": [
    "x = [] # train\n",
    "y = [] # test (answer)\n",
    "for i in range(0, 960):\n",
    "        tmpX = []\n",
    "        for j in range(0, 10):\n",
    "            tmpX.append(xts2[i+j])\n",
    "        x.append(tmpX)\n",
    "            \n",
    "        tmpY = []\n",
    "        for j in range(0,1):\n",
    "            tmpY.append(yts2[10+j+i])\n",
    "        y.append(tmpY)\n",
    "    \n",
    "\n",
    "x = np.array(x)\n",
    "y = np.array(y)\n",
    "x = x.reshape((x.shape[0], x.shape[1], 1))\n",
    "y = y.reshape((y.shape[0], y.shape[1], 1))\n",
    "\n",
    "\n",
    "m = Sequential()\n",
    "#100は分かりやすいよう。\n",
    "m.add(LSTM(100, activation='relu', input_shape=(10, 1)))\n",
    "m.add(RepeatVector(1)) \n",
    "m.add(LSTM(100, activation='relu', return_sequences=True))\n",
    "m.add(TimeDistributed(Dense(1)))\n",
    "m.compile(optimizer='adam', loss='mse')\n",
    "m.fit(x, y, epochs=1000, verbose=0)"
   ]
  },
  {
   "cell_type": "code",
   "execution_count": 49,
   "metadata": {},
   "outputs": [
    {
     "name": "stdout",
     "output_type": "stream",
     "text": [
      "[[[0.03909748]]] 0.041049365\n",
      "[[[0.04954552]]] 0.051595199\n",
      "[[[0.06111551]]] 0.063197711\n",
      "[[[0.07381655]]] 0.075861883\n",
      "[[[0.08767948]]] 0.089604025\n",
      "[[[0.10266314]]] 0.10443983\n",
      "[[[0.11874124]]] 0.1203767\n",
      "[[[0.13597101]]] 0.13741078\n",
      "[[[0.15413469]]] 0.15552765\n",
      "[[[0.17329012]]] 0.17470478\n",
      "[[[0.19351749]]] 0.19491435\n",
      "[[[0.21475272]]] 0.21612515\n",
      "[[[0.23706429]]] 0.23830345\n",
      "[[[0.26037943]]] 0.26141266\n",
      "[[[0.28477117]]] 0.28541233\n",
      "[[[0.31011486]]] 0.31025692\n",
      "[[[0.33614594]]] 0.33589458\n",
      "[[[0.36249596]]] 0.3622662\n",
      "[[[0.38962212]]] 0.38930482\n",
      "[[[0.41701975]]] 0.41693515\n"
     ]
    }
   ],
   "source": [
    "\n",
    "#20データを最小二乗法で評価\n",
    "for i in range(0,20):\n",
    "    input = np.array(xts2[i:i+10]) \n",
    "    input = input.reshape((1,10,1))\n",
    "    yhat = m.predict(input)\n",
    "    print(yhat,yts2[i+10])"
   ]
  },
  {
   "cell_type": "code",
   "execution_count": 66,
   "metadata": {},
   "outputs": [
    {
     "ename": "ValueError",
     "evalue": "x and y must have same first dimension, but have shapes (100,) and (1, 1, 1, 1)",
     "output_type": "error",
     "traceback": [
      "\u001b[1;31m---------------------------------------------------------------------------\u001b[0m",
      "\u001b[1;31mValueError\u001b[0m                                Traceback (most recent call last)",
      "\u001b[1;32m~\\AppData\\Local\\Temp/ipykernel_14444/2425742102.py\u001b[0m in \u001b[0;36m<module>\u001b[1;34m\u001b[0m\n\u001b[0;32m      8\u001b[0m     \u001b[0mplt\u001b[0m\u001b[1;33m.\u001b[0m\u001b[0mplot\u001b[0m\u001b[1;33m(\u001b[0m\u001b[0myts2\u001b[0m\u001b[1;33m)\u001b[0m\u001b[1;33m\u001b[0m\u001b[1;33m\u001b[0m\u001b[0m\n\u001b[0;32m      9\u001b[0m     \u001b[0mxdata\u001b[0m \u001b[1;33m=\u001b[0m \u001b[0mnp\u001b[0m\u001b[1;33m.\u001b[0m\u001b[0marange\u001b[0m\u001b[1;33m(\u001b[0m\u001b[1;36m0\u001b[0m\u001b[1;33m,\u001b[0m \u001b[1;36m100\u001b[0m\u001b[1;33m,\u001b[0m \u001b[1;36m1\u001b[0m\u001b[1;33m)\u001b[0m\u001b[1;33m\u001b[0m\u001b[1;33m\u001b[0m\u001b[0m\n\u001b[1;32m---> 10\u001b[1;33m     \u001b[0mplt\u001b[0m\u001b[1;33m.\u001b[0m\u001b[0mplot\u001b[0m\u001b[1;33m(\u001b[0m\u001b[0mxdata\u001b[0m\u001b[1;33m,\u001b[0m \u001b[0mpredict\u001b[0m\u001b[1;33m,\u001b[0m \u001b[1;34m'r'\u001b[0m\u001b[1;33m)\u001b[0m\u001b[1;33m\u001b[0m\u001b[1;33m\u001b[0m\u001b[0m\n\u001b[0m",
      "\u001b[1;32mD:\\anakonda\\lib\\site-packages\\matplotlib\\pyplot.py\u001b[0m in \u001b[0;36mplot\u001b[1;34m(scalex, scaley, data, *args, **kwargs)\u001b[0m\n\u001b[0;32m   3017\u001b[0m \u001b[1;33m@\u001b[0m\u001b[0m_copy_docstring_and_deprecators\u001b[0m\u001b[1;33m(\u001b[0m\u001b[0mAxes\u001b[0m\u001b[1;33m.\u001b[0m\u001b[0mplot\u001b[0m\u001b[1;33m)\u001b[0m\u001b[1;33m\u001b[0m\u001b[1;33m\u001b[0m\u001b[0m\n\u001b[0;32m   3018\u001b[0m \u001b[1;32mdef\u001b[0m \u001b[0mplot\u001b[0m\u001b[1;33m(\u001b[0m\u001b[1;33m*\u001b[0m\u001b[0margs\u001b[0m\u001b[1;33m,\u001b[0m \u001b[0mscalex\u001b[0m\u001b[1;33m=\u001b[0m\u001b[1;32mTrue\u001b[0m\u001b[1;33m,\u001b[0m \u001b[0mscaley\u001b[0m\u001b[1;33m=\u001b[0m\u001b[1;32mTrue\u001b[0m\u001b[1;33m,\u001b[0m \u001b[0mdata\u001b[0m\u001b[1;33m=\u001b[0m\u001b[1;32mNone\u001b[0m\u001b[1;33m,\u001b[0m \u001b[1;33m**\u001b[0m\u001b[0mkwargs\u001b[0m\u001b[1;33m)\u001b[0m\u001b[1;33m:\u001b[0m\u001b[1;33m\u001b[0m\u001b[1;33m\u001b[0m\u001b[0m\n\u001b[1;32m-> 3019\u001b[1;33m     return gca().plot(\n\u001b[0m\u001b[0;32m   3020\u001b[0m         \u001b[1;33m*\u001b[0m\u001b[0margs\u001b[0m\u001b[1;33m,\u001b[0m \u001b[0mscalex\u001b[0m\u001b[1;33m=\u001b[0m\u001b[0mscalex\u001b[0m\u001b[1;33m,\u001b[0m \u001b[0mscaley\u001b[0m\u001b[1;33m=\u001b[0m\u001b[0mscaley\u001b[0m\u001b[1;33m,\u001b[0m\u001b[1;33m\u001b[0m\u001b[1;33m\u001b[0m\u001b[0m\n\u001b[0;32m   3021\u001b[0m         **({\"data\": data} if data is not None else {}), **kwargs)\n",
      "\u001b[1;32mD:\\anakonda\\lib\\site-packages\\matplotlib\\axes\\_axes.py\u001b[0m in \u001b[0;36mplot\u001b[1;34m(self, scalex, scaley, data, *args, **kwargs)\u001b[0m\n\u001b[0;32m   1603\u001b[0m         \"\"\"\n\u001b[0;32m   1604\u001b[0m         \u001b[0mkwargs\u001b[0m \u001b[1;33m=\u001b[0m \u001b[0mcbook\u001b[0m\u001b[1;33m.\u001b[0m\u001b[0mnormalize_kwargs\u001b[0m\u001b[1;33m(\u001b[0m\u001b[0mkwargs\u001b[0m\u001b[1;33m,\u001b[0m \u001b[0mmlines\u001b[0m\u001b[1;33m.\u001b[0m\u001b[0mLine2D\u001b[0m\u001b[1;33m)\u001b[0m\u001b[1;33m\u001b[0m\u001b[1;33m\u001b[0m\u001b[0m\n\u001b[1;32m-> 1605\u001b[1;33m         \u001b[0mlines\u001b[0m \u001b[1;33m=\u001b[0m \u001b[1;33m[\u001b[0m\u001b[1;33m*\u001b[0m\u001b[0mself\u001b[0m\u001b[1;33m.\u001b[0m\u001b[0m_get_lines\u001b[0m\u001b[1;33m(\u001b[0m\u001b[1;33m*\u001b[0m\u001b[0margs\u001b[0m\u001b[1;33m,\u001b[0m \u001b[0mdata\u001b[0m\u001b[1;33m=\u001b[0m\u001b[0mdata\u001b[0m\u001b[1;33m,\u001b[0m \u001b[1;33m**\u001b[0m\u001b[0mkwargs\u001b[0m\u001b[1;33m)\u001b[0m\u001b[1;33m]\u001b[0m\u001b[1;33m\u001b[0m\u001b[1;33m\u001b[0m\u001b[0m\n\u001b[0m\u001b[0;32m   1606\u001b[0m         \u001b[1;32mfor\u001b[0m \u001b[0mline\u001b[0m \u001b[1;32min\u001b[0m \u001b[0mlines\u001b[0m\u001b[1;33m:\u001b[0m\u001b[1;33m\u001b[0m\u001b[1;33m\u001b[0m\u001b[0m\n\u001b[0;32m   1607\u001b[0m             \u001b[0mself\u001b[0m\u001b[1;33m.\u001b[0m\u001b[0madd_line\u001b[0m\u001b[1;33m(\u001b[0m\u001b[0mline\u001b[0m\u001b[1;33m)\u001b[0m\u001b[1;33m\u001b[0m\u001b[1;33m\u001b[0m\u001b[0m\n",
      "\u001b[1;32mD:\\anakonda\\lib\\site-packages\\matplotlib\\axes\\_base.py\u001b[0m in \u001b[0;36m__call__\u001b[1;34m(self, data, *args, **kwargs)\u001b[0m\n\u001b[0;32m    313\u001b[0m                 \u001b[0mthis\u001b[0m \u001b[1;33m+=\u001b[0m \u001b[0margs\u001b[0m\u001b[1;33m[\u001b[0m\u001b[1;36m0\u001b[0m\u001b[1;33m]\u001b[0m\u001b[1;33m,\u001b[0m\u001b[1;33m\u001b[0m\u001b[1;33m\u001b[0m\u001b[0m\n\u001b[0;32m    314\u001b[0m                 \u001b[0margs\u001b[0m \u001b[1;33m=\u001b[0m \u001b[0margs\u001b[0m\u001b[1;33m[\u001b[0m\u001b[1;36m1\u001b[0m\u001b[1;33m:\u001b[0m\u001b[1;33m]\u001b[0m\u001b[1;33m\u001b[0m\u001b[1;33m\u001b[0m\u001b[0m\n\u001b[1;32m--> 315\u001b[1;33m             \u001b[1;32myield\u001b[0m \u001b[1;32mfrom\u001b[0m \u001b[0mself\u001b[0m\u001b[1;33m.\u001b[0m\u001b[0m_plot_args\u001b[0m\u001b[1;33m(\u001b[0m\u001b[0mthis\u001b[0m\u001b[1;33m,\u001b[0m \u001b[0mkwargs\u001b[0m\u001b[1;33m)\u001b[0m\u001b[1;33m\u001b[0m\u001b[1;33m\u001b[0m\u001b[0m\n\u001b[0m\u001b[0;32m    316\u001b[0m \u001b[1;33m\u001b[0m\u001b[0m\n\u001b[0;32m    317\u001b[0m     \u001b[1;32mdef\u001b[0m \u001b[0mget_next_color\u001b[0m\u001b[1;33m(\u001b[0m\u001b[0mself\u001b[0m\u001b[1;33m)\u001b[0m\u001b[1;33m:\u001b[0m\u001b[1;33m\u001b[0m\u001b[1;33m\u001b[0m\u001b[0m\n",
      "\u001b[1;32mD:\\anakonda\\lib\\site-packages\\matplotlib\\axes\\_base.py\u001b[0m in \u001b[0;36m_plot_args\u001b[1;34m(self, tup, kwargs, return_kwargs)\u001b[0m\n\u001b[0;32m    499\u001b[0m \u001b[1;33m\u001b[0m\u001b[0m\n\u001b[0;32m    500\u001b[0m         \u001b[1;32mif\u001b[0m \u001b[0mx\u001b[0m\u001b[1;33m.\u001b[0m\u001b[0mshape\u001b[0m\u001b[1;33m[\u001b[0m\u001b[1;36m0\u001b[0m\u001b[1;33m]\u001b[0m \u001b[1;33m!=\u001b[0m \u001b[0my\u001b[0m\u001b[1;33m.\u001b[0m\u001b[0mshape\u001b[0m\u001b[1;33m[\u001b[0m\u001b[1;36m0\u001b[0m\u001b[1;33m]\u001b[0m\u001b[1;33m:\u001b[0m\u001b[1;33m\u001b[0m\u001b[1;33m\u001b[0m\u001b[0m\n\u001b[1;32m--> 501\u001b[1;33m             raise ValueError(f\"x and y must have same first dimension, but \"\n\u001b[0m\u001b[0;32m    502\u001b[0m                              f\"have shapes {x.shape} and {y.shape}\")\n\u001b[0;32m    503\u001b[0m         \u001b[1;32mif\u001b[0m \u001b[0mx\u001b[0m\u001b[1;33m.\u001b[0m\u001b[0mndim\u001b[0m \u001b[1;33m>\u001b[0m \u001b[1;36m2\u001b[0m \u001b[1;32mor\u001b[0m \u001b[0my\u001b[0m\u001b[1;33m.\u001b[0m\u001b[0mndim\u001b[0m \u001b[1;33m>\u001b[0m \u001b[1;36m2\u001b[0m\u001b[1;33m:\u001b[0m\u001b[1;33m\u001b[0m\u001b[1;33m\u001b[0m\u001b[0m\n",
      "\u001b[1;31mValueError\u001b[0m: x and y must have same first dimension, but have shapes (100,) and (1, 1, 1, 1)"
     ]
    },
    {
     "data": {
      "image/png": "[encoded data removed]",
      "text/plain": [
       "<Figure size 432x288 with 1 Axes>"
      ]
     },
     "metadata": {},
     "output_type": "display_data"
    }
   ],
   "source": [
    "# データ60番～83番から、次の一年(84番～95番)を予測\n",
    "for i in range(0,100):\n",
    "    input = np.array(xts2[i:i+10]) \n",
    "    input = input.reshape((1,10,1))\n",
    "    yhat = m.predict(input)\n",
    "    predict = []\n",
    "    predict.append(yhat)\n",
    "    plt.plot(yts2)\n",
    "    xdata = np.arange(0, 100, 1)\n",
    "    plt.plot(xdata, predict, 'r')"
   ]
  },
  {
   "cell_type": "code",
   "execution_count": 8,
   "metadata": {},
   "outputs": [
    {
     "name": "stdout",
     "output_type": "stream",
     "text": [
      "[[[5.8680773e-05]]]\n"
     ]
    }
   ],
   "source": [
    "#15データ\n",
    "x = [] # train\n",
    "y = [] # test (answer)\n",
    "for i in range(0, 900):\n",
    "        tmpX = []\n",
    "        for j in range(0, 15):\n",
    "            tmpX.append(xts2[i+j])\n",
    "        x.append(tmpX)\n",
    "            \n",
    "        tmpY = []\n",
    "        for j in range(0,1):\n",
    "            tmpY.append(yts2[15+j+i])\n",
    "        y.append(tmpY)\n",
    "    \n",
    "\n",
    "x = np.array(x)\n",
    "y = np.array(y)\n",
    "x = x.reshape((x.shape[0], x.shape[1], 1))\n",
    "y = y.reshape((y.shape[0], y.shape[1], 1))\n",
    "\n",
    "\n",
    "m = Sequential()\n",
    "#100は分かりやすいよう。\n",
    "m.add(LSTM(100, activation='relu', input_shape=(15, 1)))\n",
    "m.add(RepeatVector(1)) \n",
    "m.add(LSTM(100, activation='relu', return_sequences=True))\n",
    "m.add(TimeDistributed(Dense(1)))\n",
    "m.compile(optimizer='adam', loss='mse')\n",
    "m.fit(x, y, epochs=1000, verbose=0)\n",
    "\n",
    "for i in range(0,20):\n",
    "    input = np.array(xts2[i:i+15]) \n",
    "    input = input.reshape((1,15,1))\n",
    "    yhat = m.predict(input)\n",
    "    s=(yts2[i+15]) ** 2 - (yhat) ** 2\n",
    "    t = +s\n",
    "    \n",
    "e=t/20\n",
    "print(e)"
   ]
  },
  {
   "cell_type": "code",
   "execution_count": 12,
   "metadata": {},
   "outputs": [
    {
     "name": "stdout",
     "output_type": "stream",
     "text": [
      "[[[0.00014749]]]\n"
     ]
    }
   ],
   "source": [
    "#20データ\n",
    "x = [] # train\n",
    "y = [] # test (answer)\n",
    "for i in range(0, 840):\n",
    "        tmpX = []\n",
    "        for j in range(0, 20):\n",
    "            tmpX.append(xts2[i+j])\n",
    "        x.append(tmpX)\n",
    "            \n",
    "        tmpY = []\n",
    "        for j in range(0,1):\n",
    "            tmpY.append(yts2[20+j+i])\n",
    "        y.append(tmpY)\n",
    "    \n",
    "\n",
    "x = np.array(x)\n",
    "y = np.array(y)\n",
    "x = x.reshape((x.shape[0], x.shape[1], 1))\n",
    "y = y.reshape((y.shape[0], y.shape[1], 1))\n",
    "\n",
    "\n",
    "m = Sequential()\n",
    "#100は分かりやすいよう。\n",
    "m.add(LSTM(100, activation='relu', input_shape=(20, 1)))\n",
    "m.add(RepeatVector(1)) \n",
    "m.add(LSTM(100, activation='relu', return_sequences=True))\n",
    "m.add(TimeDistributed(Dense(1)))\n",
    "m.compile(optimizer='adam', loss='mse')\n",
    "m.fit(x, y, epochs=1000, verbose=0)\n",
    "\n",
    "for i in range(0,20):\n",
    "    input = np.array(xts2[i:i+20]) \n",
    "    input = input.reshape((1,20,1))\n",
    "    yhat = m.predict(input)\n",
    "    s=(yts2[i+20]) ** 2 - (yhat) ** 2\n",
    "    t = +s\n",
    "    \n",
    "e=t/20\n",
    "print(e)\n"
   ]
  },
  {
   "cell_type": "code",
   "execution_count": 13,
   "metadata": {},
   "outputs": [
    {
     "name": "stdout",
     "output_type": "stream",
     "text": [
      "[[[3.6892296e-05]]]\n"
     ]
    }
   ],
   "source": [
    "#25データ\n",
    "x = [] # train\n",
    "y = [] # test (answer)\n",
    "for i in range(0, 750):\n",
    "        tmpX = []\n",
    "        for j in range(0, 25):\n",
    "            tmpX.append(xts2[i+j])\n",
    "        x.append(tmpX)\n",
    "            \n",
    "        tmpY = []\n",
    "        for j in range(0,1):\n",
    "            tmpY.append(yts2[25+j+i])\n",
    "        y.append(tmpY)\n",
    "    \n",
    "\n",
    "x = np.array(x)\n",
    "y = np.array(y)\n",
    "x = x.reshape((x.shape[0], x.shape[1], 1))\n",
    "y = y.reshape((y.shape[0], y.shape[1], 1))\n",
    "\n",
    "\n",
    "m = Sequential()\n",
    "#100は分かりやすいよう。\n",
    "m.add(LSTM(100, activation='relu', input_shape=(25, 1)))\n",
    "m.add(RepeatVector(1)) \n",
    "m.add(LSTM(100, activation='relu', return_sequences=True))\n",
    "m.add(TimeDistributed(Dense(1)))\n",
    "m.compile(optimizer='adam', loss='mse')\n",
    "m.fit(x, y, epochs=1000, verbose=0)\n",
    "\n",
    "for i in range(0,25):\n",
    "    input = np.array(xts2[i:i+25]) \n",
    "    input = input.reshape((1,25,1))\n",
    "    yhat = m.predict(input)\n",
    "    s=(yts2[i+25]) ** 2 - (yhat) ** 2\n",
    "    t = +s\n",
    "    \n",
    "e=t/20\n",
    "print(e)\n"
   ]
  },
  {
   "cell_type": "code",
   "execution_count": null,
   "metadata": {},
   "outputs": [],
   "source": []
  },
  {
   "cell_type": "code",
   "execution_count": 27,
   "metadata": {},
   "outputs": [
    {
     "name": "stdout",
     "output_type": "stream",
     "text": [
      "[[[-0.00716124]]]\n"
     ]
    }
   ],
   "source": [
    "#30データ\n",
    "x = [] # train\n",
    "y = [] # test (answer)\n",
    "for i in range(0, 960):\n",
    "        tmpX = []\n",
    "        for j in range(0, 30):\n",
    "            tmpX.append(xts2[i+j])\n",
    "        x.append(tmpX)\n",
    "            \n",
    "        tmpY = []\n",
    "        for j in range(0,1):\n",
    "            tmpY.append(yts2[30+j+i])\n",
    "        y.append(tmpY)\n",
    "    \n",
    "\n",
    "x = np.array(x)\n",
    "y = np.array(y)\n",
    "x = x.reshape((x.shape[0], x.shape[1], 1))\n",
    "y = y.reshape((y.shape[0], y.shape[1], 1))\n",
    "\n",
    "\n",
    "m = Sequential()\n",
    "#100は分かりやすいよう。\n",
    "m.add(LSTM(100, activation='relu', input_shape=(30, 1)))\n",
    "m.add(RepeatVector(1)) \n",
    "m.add(LSTM(100, activation='relu', return_sequences=True))\n",
    "m.add(TimeDistributed(Dense(1)))\n",
    "m.compile(optimizer='adam', loss='mse')\n",
    "m.fit(x, y, epochs=1000, verbose=0)\n",
    "\n",
    "for i in range(0,30):\n",
    "    input = np.array(xts2[i:i+30]) \n",
    "    input = input.reshape((1,30,1))\n",
    "    yhat = m.predict(input)\n",
    "    s=(yts2[i+15]) ** 2 - (yhat) ** 2\n",
    "    t = +s\n",
    "    \n",
    "e=t/20\n",
    "print(e)\n"
   ]
  },
  {
   "cell_type": "code",
   "execution_count": 15,
   "metadata": {},
   "outputs": [
    {
     "name": "stdout",
     "output_type": "stream",
     "text": [
      "[[[0.00024868]]]\n"
     ]
    }
   ],
   "source": [
    "#1データ\n",
    "x = [] # train\n",
    "y = [] # test (answer)\n",
    "for i in range(0, 990):\n",
    "        tmpX = []\n",
    "        for j in range(0, 1):\n",
    "            tmpX.append(xts2[i+j])\n",
    "        x.append(tmpX)\n",
    "            \n",
    "        tmpY = []\n",
    "        for j in range(0,1):\n",
    "            tmpY.append(yts2[1+j+i])\n",
    "        y.append(tmpY)\n",
    "    \n",
    "\n",
    "x = np.array(x)\n",
    "y = np.array(y)\n",
    "x = x.reshape((x.shape[0], x.shape[1], 1))\n",
    "y = y.reshape((y.shape[0], y.shape[1], 1))\n",
    "\n",
    "\n",
    "m = Sequential()\n",
    "#100は分かりやすいよう。\n",
    "m.add(LSTM(100, activation='relu', input_shape=(1,1)))\n",
    "m.add(RepeatVector(1)) \n",
    "m.add(LSTM(100, activation='relu', return_sequences=True))\n",
    "m.add(TimeDistributed(Dense(1)))\n",
    "m.compile(optimizer='adam', loss='mse')\n",
    "m.fit(x, y, epochs=1000, verbose=0)\n",
    "\n",
    "for i in range(0,1):\n",
    "    input = np.array(xts2[i:i+1])\n",
    "    input = input.reshape((1,1,1))\n",
    "    yhat = m.predict(input)\n",
    "    s=(yts2[i+15]) ** 2 - (yhat) ** 2\n",
    "    t = +s\n",
    "    \n",
    "e=t/20\n",
    "print(e)\n"
   ]
  },
  {
   "cell_type": "code",
   "execution_count": 16,
   "metadata": {},
   "outputs": [
    {
     "name": "stdout",
     "output_type": "stream",
     "text": [
      "[[[0.00148304]]]\n"
     ]
    }
   ],
   "source": [
    "#5データ\n",
    "x = [] # train\n",
    "y = [] # test (answer)\n",
    "for i in range(0, 900):\n",
    "        tmpX = []\n",
    "        for j in range(0, 5):\n",
    "            tmpX.append(xts2[i+j])\n",
    "        x.append(tmpX)\n",
    "            \n",
    "        tmpY = []\n",
    "        for j in range(0,1):\n",
    "            tmpY.append(yts2[5+j+i])\n",
    "        y.append(tmpY)\n",
    "    \n",
    "\n",
    "x = np.array(x)\n",
    "y = np.array(y)\n",
    "x = x.reshape((x.shape[0], x.shape[1], 1))\n",
    "y = y.reshape((y.shape[0], y.shape[1], 1))\n",
    "\n",
    "\n",
    "m = Sequential()\n",
    "#100は分かりやすいよう。\n",
    "m.add(LSTM(100, activation='relu', input_shape=(5, 1)))\n",
    "m.add(RepeatVector(1)) \n",
    "m.add(LSTM(100, activation='relu', return_sequences=True))\n",
    "m.add(TimeDistributed(Dense(1)))\n",
    "m.compile(optimizer='adam', loss='mse')\n",
    "m.fit(x, y, epochs=1000, verbose=0)\n",
    "\n",
    "for i in range(0,5):\n",
    "    input = np.array(xts2[i:i+5]) \n",
    "    input = input.reshape((1,5,1))\n",
    "    yhat = m.predict(input)\n",
    "    s=(yts2[i+15]) ** 2 - (yhat) ** 2\n",
    "    t =+s\n",
    "    \n",
    "e=t/20\n",
    "print(e)\n"
   ]
  },
  {
   "cell_type": "code",
   "execution_count": 40,
   "metadata": {},
   "outputs": [
    {
     "name": "stdout",
     "output_type": "stream",
     "text": [
      "-0.0007205824367702007\n"
     ]
    }
   ],
   "source": [
    "x = [] # train\n",
    "y = [] # test (answer)\n",
    "for i in range(0, 880):\n",
    "        tmpX = []\n",
    "        for j in range(0, 10):\n",
    "            tmpX.append(xts2[i+j])\n",
    "        x.append(tmpX)\n",
    "            \n",
    "        tmpY = []\n",
    "        for j in range(0,3):\n",
    "            tmpY.append(yts2[10+j+i])\n",
    "        y.append(tmpY)\n",
    "    \n",
    "\n",
    "x = np.array(x)\n",
    "y = np.array(y)\n",
    "x = x.reshape((x.shape[0], x.shape[1], 1))\n",
    "y = y.reshape((y.shape[0], y.shape[1], 1))\n",
    "\n",
    "\n",
    "m = Sequential()\n",
    "#100は分かりやすいよう。\n",
    "m.add(LSTM(100, activation='relu', input_shape=(10, 1)))\n",
    "m.add(RepeatVector(3)) \n",
    "m.add(LSTM(100, activation='relu', return_sequences=True))\n",
    "m.add(TimeDistributed(Dense(1)))\n",
    "m.compile(optimizer='adam', loss='mse')\n",
    "m.fit(x, y, epochs=1000, verbose=0)\n",
    "\n",
    "#20データを最小二乗法で評価\n",
    "for i in range(0,20):\n",
    "    input = np.array(xts2[i:i+10]) \n",
    "    input = input.reshape((1,10,1))\n",
    "    yhat = m.predict(input)\n",
    "    s=(yts2[i+10]) ** 2 - (yhat) ** 2\n",
    "    t = +s\n",
    "    \n",
    "e=t/20\n",
    "e = (e[0,0]+e[0,1]+e[0,2])\n",
    "e = e[0]/3\n",
    "print(e)"
   ]
  },
  {
   "cell_type": "code",
   "execution_count": 4,
   "metadata": {},
   "outputs": [
    {
     "name": "stdout",
     "output_type": "stream",
     "text": [
      "[[[0.00154774]]]\n"
     ]
    }
   ],
   "source": [
    "#50データ\n",
    "x = [] # train\n",
    "y = [] # test (answer)\n",
    "for i in range(0, 900):\n",
    "        tmpX = []\n",
    "        for j in range(0, 50):\n",
    "            tmpX.append(xts2[i+j])\n",
    "        x.append(tmpX)\n",
    "            \n",
    "        tmpY = []\n",
    "        for j in range(0,3):\n",
    "            tmpY.append(yts2[50+j+i])\n",
    "        y.append(tmpY)\n",
    "    \n",
    "\n",
    "x = np.array(x)\n",
    "y = np.array(y)\n",
    "x = x.reshape((x.shape[0], x.shape[1], 1))\n",
    "y = y.reshape((y.shape[0], y.shape[1], 1))\n",
    "\n",
    "\n",
    "m = Sequential()\n",
    "#100は分かりやすいよう。\n",
    "m.add(LSTM(100, activation='relu', input_shape=(50, 1)))\n",
    "m.add(RepeatVector(3)) \n",
    "m.add(LSTM(100, activation='relu', return_sequences=True))\n",
    "m.add(TimeDistributed(Dense(1)))\n",
    "m.compile(optimizer='adam', loss='mse')\n",
    "m.fit(x, y, epochs=1000, verbose=0)\n",
    "\n",
    "#３層のデータを最小二乗法で評価\n",
    "for i in range(0,20):\n",
    "    input = np.array(xts2[i:i+50]) \n",
    "    input = input.reshape((1,50,1))\n",
    "    yhat = m.predict(input)\n",
    "    s=(yts2[i+50]) ** 2 - (yhat) ** 2\n",
    "    t = +s\n",
    "    \n",
    "e=t/20\n",
    "e = (e[0,0]+e[0,1]+e[0,2])\n",
    "e = e[0]/3\n",
    "print(e)"
   ]
  },
  {
   "cell_type": "code",
   "execution_count": null,
   "metadata": {},
   "outputs": [],
   "source": []
  },
  {
   "cell_type": "code",
   "execution_count": 8,
   "metadata": {},
   "outputs": [
    {
     "name": "stdout",
     "output_type": "stream",
     "text": [
      "[[[0.0058241 ]\n",
      "  [0.00956999]\n",
      "  [0.01130747]]]\n"
     ]
    }
   ],
   "source": [
    "#100データ\n",
    "x = [] # train\n",
    "y = [] # test (answer)\n",
    "for i in range(0, 830):\n",
    "        tmpX = []\n",
    "        for j in range(0, 100):\n",
    "            tmpX.append(xts2[i+j])\n",
    "        x.append(tmpX)\n",
    "            \n",
    "        tmpY = []\n",
    "        for j in range(0,3):\n",
    "            tmpY.append(yts2[100+j+i])\n",
    "        y.append(tmpY)\n",
    "    \n",
    "\n",
    "x = np.array(x)\n",
    "y = np.array(y)\n",
    "x = x.reshape((x.shape[0], x.shape[1], 1))\n",
    "y = y.reshape((y.shape[0], y.shape[1], 1))\n",
    "\n",
    "\n",
    "m = Sequential()\n",
    "#100は分かりやすいよう。\n",
    "m.add(LSTM(100, activation='relu', input_shape=(100, 1)))\n",
    "m.add(RepeatVector(3)) \n",
    "m.add(LSTM(100, activation='relu', return_sequences=True))\n",
    "m.add(TimeDistributed(Dense(1)))\n",
    "m.compile(optimizer='adam', loss='mse')\n",
    "m.fit(x, y, epochs=1000, verbose=0)\n",
    "\n",
    "\n",
    "#３層のデータを最小二乗法で評価\n",
    "#50データを読み込み、3データを算出。それを２０回繰り返す。\n",
    "for i in range(0,20):\n",
    "    input = np.array(xts2[i:i+100]) \n",
    "    input = input.reshape((1,100,1))\n",
    "    yhat = m.predict(input)\n",
    "    s=(yts2[i+100]) ** 2 - (yhat) ** 2\n",
    "    t = +s\n",
    "    \n",
    "e=t/20\n",
    "print(e)"
   ]
  },
  {
   "cell_type": "code",
   "execution_count": 16,
   "metadata": {},
   "outputs": [
    {
     "data": {
      "text/plain": [
       "<keras.callbacks.History at 0x2a04579a220>"
      ]
     },
     "execution_count": 16,
     "metadata": {},
     "output_type": "execute_result"
    }
   ],
   "source": [
    "#20データ\n",
    "x = [] # train\n",
    "y = [] # test (answer)\n",
    "for i in range(0, 720):\n",
    "        tmpX = []\n",
    "        for j in range(0, 200):\n",
    "            tmpX.append(xts2[i+j])\n",
    "        x.append(tmpX)\n",
    "            \n",
    "        tmpY = []\n",
    "        for j in range(0,3):\n",
    "            tmpY.append(yts2[200+j+i])\n",
    "        y.append(tmpY)\n",
    "    \n",
    "\n",
    "x = np.array(x)\n",
    "y = np.array(y)\n",
    "x = x.reshape((x.shape[0], x.shape[1], 1))\n",
    "y = y.reshape((y.shape[0], y.shape[1], 1))\n",
    "\n",
    "\n",
    "m = Sequential()\n",
    "#100は分かりやすいよう。\n",
    "m.add(LSTM(100, activation='relu', input_shape=(200, 1)))\n",
    "m.add(RepeatVector(3)) \n",
    "m.add(LSTM(100, activation='relu', return_sequences=True))\n",
    "m.add(TimeDistributed(Dense(1)))\n",
    "m.compile(optimizer='adam', loss='mse')\n",
    "m.fit(x, y, epochs=1000, verbose=0)\n",
    "\n",
    "\n"
   ]
  },
  {
   "cell_type": "code",
   "execution_count": 18,
   "metadata": {},
   "outputs": [
    {
     "name": "stdout",
     "output_type": "stream",
     "text": [
      "0.0026697665452957153\n"
     ]
    }
   ],
   "source": [
    "#３層のデータを最小二乗法で評価\n",
    "#50データを読み込み、3データを算出。それを２０回繰り返す。\n",
    "for i in range(0,20):\n",
    "    input = np.array(xts2[i:i+200]) \n",
    "    input = input.reshape((1,200,1))\n",
    "    yhat = m.predict(input)\n",
    "    s=(yts2[i+200]) ** 2 - (yhat) ** 2\n",
    "    t = +s\n",
    "    \n",
    "e=t/20\n",
    "e = (e[0,0]+e[0,1]+e[0,2])\n",
    "e = e[0]/3\n",
    "print(e)"
   ]
  },
  {
   "cell_type": "code",
   "execution_count": 25,
   "metadata": {},
   "outputs": [
    {
     "data": {
      "text/plain": [
       "<keras.callbacks.History at 0x2a040213e50>"
      ]
     },
     "execution_count": 25,
     "metadata": {},
     "output_type": "execute_result"
    }
   ],
   "source": [
    "#1データ\n",
    "x = [] # train\n",
    "y = [] # test (answer)\n",
    "for i in range(0, 992):\n",
    "        tmpX = []\n",
    "        for j in range(0, 1):\n",
    "            tmpX.append(xts2[i+j])\n",
    "        x.append(tmpX)\n",
    "            \n",
    "        tmpY = []\n",
    "        for j in range(0,3):\n",
    "            tmpY.append(yts2[1+j+i])\n",
    "        y.append(tmpY)\n",
    "    \n",
    "\n",
    "x = np.array(x)\n",
    "y = np.array(y)\n",
    "x = x.reshape((x.shape[0], x.shape[1], 1))\n",
    "y = y.reshape((y.shape[0], y.shape[1], 1))\n",
    "\n",
    "\n",
    "m = Sequential()\n",
    "#100は分かりやすいよう。\n",
    "m.add(LSTM(100, activation='relu', input_shape=(1,1)))\n",
    "m.add(RepeatVector(3)) \n",
    "m.add(LSTM(100, activation='relu', return_sequences=True))\n",
    "m.add(TimeDistributed(Dense(1)))\n",
    "m.compile(optimizer='adam', loss='mse')\n",
    "m.fit(x, y, epochs=1000, verbose=0)\n",
    "\n"
   ]
  },
  {
   "cell_type": "code",
   "execution_count": null,
   "metadata": {},
   "outputs": [],
   "source": []
  },
  {
   "cell_type": "code",
   "execution_count": 32,
   "metadata": {},
   "outputs": [
    {
     "name": "stdout",
     "output_type": "stream",
     "text": [
      "WARNING:tensorflow:Model was constructed with shape (None, 5, 1) for input KerasTensor(type_spec=TensorSpec(shape=(None, 5, 1), dtype=tf.float32, name='lstm_22_input'), name='lstm_22_input', description=\"created by layer 'lstm_22_input'\"), but it was called on an input with incompatible shape (None, 1, 1).\n",
      "[[[-0.07574586]\n",
      "  [-0.09235688]\n",
      "  [-0.09543943]]] 1    0.000019\n",
      "2    0.000249\n",
      "3    0.001065\n",
      "Name: #data, dtype: float64\n",
      "[[[-0.07551074]\n",
      "  [-0.09205824]\n",
      "  [-0.09513001]]] 2    0.000249\n",
      "3    0.001065\n",
      "4    0.002852\n",
      "Name: #data, dtype: float64\n",
      "[[[-0.07480531]\n",
      "  [-0.09116226]\n",
      "  [-0.09420175]]] 3    0.001065\n",
      "4    0.002852\n",
      "5    0.005889\n",
      "Name: #data, dtype: float64\n",
      "[[[-0.07362962]\n",
      "  [-0.08966901]\n",
      "  [-0.09265471]]] 4    0.002852\n",
      "5    0.005889\n",
      "6    0.010309\n",
      "Name: #data, dtype: float64\n",
      "[[[-0.07198365]\n",
      "  [-0.08757856]\n",
      "  [-0.09048893]]] 5    0.005889\n",
      "6    0.010309\n",
      "7    0.016117\n",
      "Name: #data, dtype: float64\n",
      "[[[-0.06990554]\n",
      "  [-0.08493776]\n",
      "  [-0.08775154]]] 6    0.010309\n",
      "7    0.016117\n",
      "8    0.023241\n",
      "Name: #data, dtype: float64\n",
      "[[[-0.06735619]\n",
      "  [-0.08169734]\n",
      "  [-0.08439236]]] 7    0.016117\n",
      "8    0.023241\n",
      "9    0.031580\n",
      "Name: #data, dtype: float64\n",
      "[[[-0.06423105]\n",
      "  [-0.07772065]\n",
      "  [-0.08027054]]] 8     0.023241\n",
      "9     0.031580\n",
      "10    0.041049\n",
      "Name: #data, dtype: float64\n",
      "[[[-0.06062624]\n",
      "  [-0.07313401]\n",
      "  [-0.07551642]]] 9     0.031580\n",
      "10    0.041049\n",
      "11    0.051595\n",
      "Name: #data, dtype: float64\n",
      "[[[-0.05654269]\n",
      "  [-0.06793877]\n",
      "  [-0.07013132]]] 10    0.041049\n",
      "11    0.051595\n",
      "12    0.063198\n",
      "Name: #data, dtype: float64\n",
      "[[[-0.05199379]\n",
      "  [-0.06215049]\n",
      "  [-0.06412995]]] 11    0.051595\n",
      "12    0.063198\n",
      "13    0.075862\n",
      "Name: #data, dtype: float64\n",
      "[[[-0.04695722]\n",
      "  [-0.05576611]\n",
      "  [-0.05746911]]] 12    0.063198\n",
      "13    0.075862\n",
      "14    0.089604\n",
      "Name: #data, dtype: float64\n",
      "[[[-0.0415229 ]\n",
      "  [-0.04887647]\n",
      "  [-0.05027954]]] 13    0.075862\n",
      "14    0.089604\n",
      "15    0.104440\n",
      "Name: #data, dtype: float64\n",
      "[[[-0.03562523]\n",
      "  [-0.04146691]\n",
      "  [-0.04252563]]] 14    0.089604\n",
      "15    0.104440\n",
      "16    0.120377\n",
      "Name: #data, dtype: float64\n",
      "[[[-0.02926833]\n",
      "  [-0.03362289]\n",
      "  [-0.03426749]]] 15    0.104440\n",
      "16    0.120377\n",
      "17    0.137411\n",
      "Name: #data, dtype: float64\n",
      "[[[-0.0224573 ]\n",
      "  [-0.02522019]\n",
      "  [-0.02533143]]] 16    0.120377\n",
      "17    0.137411\n",
      "18    0.155528\n",
      "Name: #data, dtype: float64\n",
      "[[[-0.01521821]\n",
      "  [-0.01629091]\n",
      "  [-0.01583379]]] 17    0.137411\n",
      "18    0.155528\n",
      "19    0.174705\n",
      "Name: #data, dtype: float64\n",
      "[[[-0.00763682]\n",
      "  [-0.00689359]\n",
      "  [-0.0059162 ]]] 18    0.155528\n",
      "19    0.174705\n",
      "20    0.194914\n",
      "Name: #data, dtype: float64\n",
      "[[[0.00014478]\n",
      "  [0.00274763]\n",
      "  [0.00423187]]] 19    0.174705\n",
      "20    0.194914\n",
      "21    0.216125\n",
      "Name: #data, dtype: float64\n",
      "[[[0.00832383]\n",
      "  [0.01287685]\n",
      "  [0.0148954 ]]] 20    0.194914\n",
      "21    0.216125\n",
      "22    0.238303\n",
      "Name: #data, dtype: float64\n",
      "0.0018919638047615688\n"
     ]
    }
   ],
   "source": [
    "for i in range(0,20):\n",
    "    input = np.array(xts2[i:i+1]) \n",
    "    input = input.reshape((1,1,1))\n",
    "    yhat = m.predict(input)\n",
    "    print(yhat,yts2[i+1:i+4])\n",
    "    s=(yts2[i+1]) ** 2 - (yhat) ** 2\n",
    "    t=+s\n",
    "        \n",
    "e=t/20\n",
    "e = (e[0,0]+e[0,1]+e[0,2])\n",
    "e = e[0]/3\n",
    "print(e)"
   ]
  },
  {
   "cell_type": "code",
   "execution_count": null,
   "metadata": {},
   "outputs": [],
   "source": []
  },
  {
   "cell_type": "code",
   "execution_count": 47,
   "metadata": {},
   "outputs": [
    {
     "ename": "KeyboardInterrupt",
     "evalue": "",
     "output_type": "error",
     "traceback": [
      "\u001b[1;31m---------------------------------------------------------------------------\u001b[0m",
      "\u001b[1;31mKeyboardInterrupt\u001b[0m                         Traceback (most recent call last)",
      "\u001b[1;32m~\\AppData\\Local\\Temp/ipykernel_14444/3727420651.py\u001b[0m in \u001b[0;36m<module>\u001b[1;34m\u001b[0m\n\u001b[0;32m     27\u001b[0m \u001b[0mm\u001b[0m\u001b[1;33m.\u001b[0m\u001b[0madd\u001b[0m\u001b[1;33m(\u001b[0m\u001b[0mTimeDistributed\u001b[0m\u001b[1;33m(\u001b[0m\u001b[0mDense\u001b[0m\u001b[1;33m(\u001b[0m\u001b[1;36m1\u001b[0m\u001b[1;33m)\u001b[0m\u001b[1;33m)\u001b[0m\u001b[1;33m)\u001b[0m\u001b[1;33m\u001b[0m\u001b[1;33m\u001b[0m\u001b[0m\n\u001b[0;32m     28\u001b[0m \u001b[0mm\u001b[0m\u001b[1;33m.\u001b[0m\u001b[0mcompile\u001b[0m\u001b[1;33m(\u001b[0m\u001b[0moptimizer\u001b[0m\u001b[1;33m=\u001b[0m\u001b[1;34m'adam'\u001b[0m\u001b[1;33m,\u001b[0m \u001b[0mloss\u001b[0m\u001b[1;33m=\u001b[0m\u001b[1;34m'mse'\u001b[0m\u001b[1;33m)\u001b[0m\u001b[1;33m\u001b[0m\u001b[1;33m\u001b[0m\u001b[0m\n\u001b[1;32m---> 29\u001b[1;33m \u001b[0mm\u001b[0m\u001b[1;33m.\u001b[0m\u001b[0mfit\u001b[0m\u001b[1;33m(\u001b[0m\u001b[0mx\u001b[0m\u001b[1;33m,\u001b[0m \u001b[0my\u001b[0m\u001b[1;33m,\u001b[0m \u001b[0mepochs\u001b[0m\u001b[1;33m=\u001b[0m\u001b[1;36m1000\u001b[0m\u001b[1;33m,\u001b[0m \u001b[0mverbose\u001b[0m\u001b[1;33m=\u001b[0m\u001b[1;36m0\u001b[0m\u001b[1;33m)\u001b[0m\u001b[1;33m\u001b[0m\u001b[1;33m\u001b[0m\u001b[0m\n\u001b[0m\u001b[0;32m     30\u001b[0m \u001b[1;33m\u001b[0m\u001b[0m\n",
      "\u001b[1;32m~\\AppData\\Roaming\\Python\\Python38\\site-packages\\keras\\engine\\training.py\u001b[0m in \u001b[0;36mfit\u001b[1;34m(self, x, y, batch_size, epochs, verbose, callbacks, validation_split, validation_data, shuffle, class_weight, sample_weight, initial_epoch, steps_per_epoch, validation_steps, validation_batch_size, validation_freq, max_queue_size, workers, use_multiprocessing)\u001b[0m\n\u001b[0;32m   1182\u001b[0m                 _r=1):\n\u001b[0;32m   1183\u001b[0m               \u001b[0mcallbacks\u001b[0m\u001b[1;33m.\u001b[0m\u001b[0mon_train_batch_begin\u001b[0m\u001b[1;33m(\u001b[0m\u001b[0mstep\u001b[0m\u001b[1;33m)\u001b[0m\u001b[1;33m\u001b[0m\u001b[1;33m\u001b[0m\u001b[0m\n\u001b[1;32m-> 1184\u001b[1;33m               \u001b[0mtmp_logs\u001b[0m \u001b[1;33m=\u001b[0m \u001b[0mself\u001b[0m\u001b[1;33m.\u001b[0m\u001b[0mtrain_function\u001b[0m\u001b[1;33m(\u001b[0m\u001b[0miterator\u001b[0m\u001b[1;33m)\u001b[0m\u001b[1;33m\u001b[0m\u001b[1;33m\u001b[0m\u001b[0m\n\u001b[0m\u001b[0;32m   1185\u001b[0m               \u001b[1;32mif\u001b[0m \u001b[0mdata_handler\u001b[0m\u001b[1;33m.\u001b[0m\u001b[0mshould_sync\u001b[0m\u001b[1;33m:\u001b[0m\u001b[1;33m\u001b[0m\u001b[1;33m\u001b[0m\u001b[0m\n\u001b[0;32m   1186\u001b[0m                 \u001b[0mcontext\u001b[0m\u001b[1;33m.\u001b[0m\u001b[0masync_wait\u001b[0m\u001b[1;33m(\u001b[0m\u001b[1;33m)\u001b[0m\u001b[1;33m\u001b[0m\u001b[1;33m\u001b[0m\u001b[0m\n",
      "\u001b[1;32m~\\AppData\\Roaming\\Python\\Python38\\site-packages\\tensorflow\\python\\eager\\def_function.py\u001b[0m in \u001b[0;36m__call__\u001b[1;34m(self, *args, **kwds)\u001b[0m\n\u001b[0;32m    883\u001b[0m \u001b[1;33m\u001b[0m\u001b[0m\n\u001b[0;32m    884\u001b[0m       \u001b[1;32mwith\u001b[0m \u001b[0mOptionalXlaContext\u001b[0m\u001b[1;33m(\u001b[0m\u001b[0mself\u001b[0m\u001b[1;33m.\u001b[0m\u001b[0m_jit_compile\u001b[0m\u001b[1;33m)\u001b[0m\u001b[1;33m:\u001b[0m\u001b[1;33m\u001b[0m\u001b[1;33m\u001b[0m\u001b[0m\n\u001b[1;32m--> 885\u001b[1;33m         \u001b[0mresult\u001b[0m \u001b[1;33m=\u001b[0m \u001b[0mself\u001b[0m\u001b[1;33m.\u001b[0m\u001b[0m_call\u001b[0m\u001b[1;33m(\u001b[0m\u001b[1;33m*\u001b[0m\u001b[0margs\u001b[0m\u001b[1;33m,\u001b[0m \u001b[1;33m**\u001b[0m\u001b[0mkwds\u001b[0m\u001b[1;33m)\u001b[0m\u001b[1;33m\u001b[0m\u001b[1;33m\u001b[0m\u001b[0m\n\u001b[0m\u001b[0;32m    886\u001b[0m \u001b[1;33m\u001b[0m\u001b[0m\n\u001b[0;32m    887\u001b[0m       \u001b[0mnew_tracing_count\u001b[0m \u001b[1;33m=\u001b[0m \u001b[0mself\u001b[0m\u001b[1;33m.\u001b[0m\u001b[0mexperimental_get_tracing_count\u001b[0m\u001b[1;33m(\u001b[0m\u001b[1;33m)\u001b[0m\u001b[1;33m\u001b[0m\u001b[1;33m\u001b[0m\u001b[0m\n",
      "\u001b[1;32m~\\AppData\\Roaming\\Python\\Python38\\site-packages\\tensorflow\\python\\eager\\def_function.py\u001b[0m in \u001b[0;36m_call\u001b[1;34m(self, *args, **kwds)\u001b[0m\n\u001b[0;32m    915\u001b[0m       \u001b[1;31m# In this case we have created variables on the first call, so we run the\u001b[0m\u001b[1;33m\u001b[0m\u001b[1;33m\u001b[0m\u001b[1;33m\u001b[0m\u001b[0m\n\u001b[0;32m    916\u001b[0m       \u001b[1;31m# defunned version which is guaranteed to never create variables.\u001b[0m\u001b[1;33m\u001b[0m\u001b[1;33m\u001b[0m\u001b[1;33m\u001b[0m\u001b[0m\n\u001b[1;32m--> 917\u001b[1;33m       \u001b[1;32mreturn\u001b[0m \u001b[0mself\u001b[0m\u001b[1;33m.\u001b[0m\u001b[0m_stateless_fn\u001b[0m\u001b[1;33m(\u001b[0m\u001b[1;33m*\u001b[0m\u001b[0margs\u001b[0m\u001b[1;33m,\u001b[0m \u001b[1;33m**\u001b[0m\u001b[0mkwds\u001b[0m\u001b[1;33m)\u001b[0m  \u001b[1;31m# pylint: disable=not-callable\u001b[0m\u001b[1;33m\u001b[0m\u001b[1;33m\u001b[0m\u001b[0m\n\u001b[0m\u001b[0;32m    918\u001b[0m     \u001b[1;32melif\u001b[0m \u001b[0mself\u001b[0m\u001b[1;33m.\u001b[0m\u001b[0m_stateful_fn\u001b[0m \u001b[1;32mis\u001b[0m \u001b[1;32mnot\u001b[0m \u001b[1;32mNone\u001b[0m\u001b[1;33m:\u001b[0m\u001b[1;33m\u001b[0m\u001b[1;33m\u001b[0m\u001b[0m\n\u001b[0;32m    919\u001b[0m       \u001b[1;31m# Release the lock early so that multiple threads can perform the call\u001b[0m\u001b[1;33m\u001b[0m\u001b[1;33m\u001b[0m\u001b[1;33m\u001b[0m\u001b[0m\n",
      "\u001b[1;32m~\\AppData\\Roaming\\Python\\Python38\\site-packages\\tensorflow\\python\\eager\\function.py\u001b[0m in \u001b[0;36m__call__\u001b[1;34m(self, *args, **kwargs)\u001b[0m\n\u001b[0;32m   3037\u001b[0m       (graph_function,\n\u001b[0;32m   3038\u001b[0m        filtered_flat_args) = self._maybe_define_function(args, kwargs)\n\u001b[1;32m-> 3039\u001b[1;33m     return graph_function._call_flat(\n\u001b[0m\u001b[0;32m   3040\u001b[0m         filtered_flat_args, captured_inputs=graph_function.captured_inputs)  # pylint: disable=protected-access\n\u001b[0;32m   3041\u001b[0m \u001b[1;33m\u001b[0m\u001b[0m\n",
      "\u001b[1;32m~\\AppData\\Roaming\\Python\\Python38\\site-packages\\tensorflow\\python\\eager\\function.py\u001b[0m in \u001b[0;36m_call_flat\u001b[1;34m(self, args, captured_inputs, cancellation_manager)\u001b[0m\n\u001b[0;32m   1961\u001b[0m         and executing_eagerly):\n\u001b[0;32m   1962\u001b[0m       \u001b[1;31m# No tape is watching; skip to running the function.\u001b[0m\u001b[1;33m\u001b[0m\u001b[1;33m\u001b[0m\u001b[1;33m\u001b[0m\u001b[0m\n\u001b[1;32m-> 1963\u001b[1;33m       return self._build_call_outputs(self._inference_function.call(\n\u001b[0m\u001b[0;32m   1964\u001b[0m           ctx, args, cancellation_manager=cancellation_manager))\n\u001b[0;32m   1965\u001b[0m     forward_backward = self._select_forward_and_backward_functions(\n",
      "\u001b[1;32m~\\AppData\\Roaming\\Python\\Python38\\site-packages\\tensorflow\\python\\eager\\function.py\u001b[0m in \u001b[0;36mcall\u001b[1;34m(self, ctx, args, cancellation_manager)\u001b[0m\n\u001b[0;32m    589\u001b[0m       \u001b[1;32mwith\u001b[0m \u001b[0m_InterpolateFunctionError\u001b[0m\u001b[1;33m(\u001b[0m\u001b[0mself\u001b[0m\u001b[1;33m)\u001b[0m\u001b[1;33m:\u001b[0m\u001b[1;33m\u001b[0m\u001b[1;33m\u001b[0m\u001b[0m\n\u001b[0;32m    590\u001b[0m         \u001b[1;32mif\u001b[0m \u001b[0mcancellation_manager\u001b[0m \u001b[1;32mis\u001b[0m \u001b[1;32mNone\u001b[0m\u001b[1;33m:\u001b[0m\u001b[1;33m\u001b[0m\u001b[1;33m\u001b[0m\u001b[0m\n\u001b[1;32m--> 591\u001b[1;33m           outputs = execute.execute(\n\u001b[0m\u001b[0;32m    592\u001b[0m               \u001b[0mstr\u001b[0m\u001b[1;33m(\u001b[0m\u001b[0mself\u001b[0m\u001b[1;33m.\u001b[0m\u001b[0msignature\u001b[0m\u001b[1;33m.\u001b[0m\u001b[0mname\u001b[0m\u001b[1;33m)\u001b[0m\u001b[1;33m,\u001b[0m\u001b[1;33m\u001b[0m\u001b[1;33m\u001b[0m\u001b[0m\n\u001b[0;32m    593\u001b[0m               \u001b[0mnum_outputs\u001b[0m\u001b[1;33m=\u001b[0m\u001b[0mself\u001b[0m\u001b[1;33m.\u001b[0m\u001b[0m_num_outputs\u001b[0m\u001b[1;33m,\u001b[0m\u001b[1;33m\u001b[0m\u001b[1;33m\u001b[0m\u001b[0m\n",
      "\u001b[1;32m~\\AppData\\Roaming\\Python\\Python38\\site-packages\\tensorflow\\python\\eager\\execute.py\u001b[0m in \u001b[0;36mquick_execute\u001b[1;34m(op_name, num_outputs, inputs, attrs, ctx, name)\u001b[0m\n\u001b[0;32m     57\u001b[0m   \u001b[1;32mtry\u001b[0m\u001b[1;33m:\u001b[0m\u001b[1;33m\u001b[0m\u001b[1;33m\u001b[0m\u001b[0m\n\u001b[0;32m     58\u001b[0m     \u001b[0mctx\u001b[0m\u001b[1;33m.\u001b[0m\u001b[0mensure_initialized\u001b[0m\u001b[1;33m(\u001b[0m\u001b[1;33m)\u001b[0m\u001b[1;33m\u001b[0m\u001b[1;33m\u001b[0m\u001b[0m\n\u001b[1;32m---> 59\u001b[1;33m     tensors = pywrap_tfe.TFE_Py_Execute(ctx._handle, device_name, op_name,\n\u001b[0m\u001b[0;32m     60\u001b[0m                                         inputs, attrs, num_outputs)\n\u001b[0;32m     61\u001b[0m   \u001b[1;32mexcept\u001b[0m \u001b[0mcore\u001b[0m\u001b[1;33m.\u001b[0m\u001b[0m_NotOkStatusException\u001b[0m \u001b[1;32mas\u001b[0m \u001b[0me\u001b[0m\u001b[1;33m:\u001b[0m\u001b[1;33m\u001b[0m\u001b[1;33m\u001b[0m\u001b[0m\n",
      "\u001b[1;31mKeyboardInterrupt\u001b[0m: "
     ]
    }
   ],
   "source": [
    "#5データ\n",
    "x = [] # train\n",
    "y = [] # test (answer)\n",
    "for i in range(0, 900):\n",
    "        tmpX = []\n",
    "        for j in range(0, 5):\n",
    "            tmpX.append(xts2[i+j])\n",
    "        x.append(tmpX)\n",
    "            \n",
    "        tmpY = []\n",
    "        for j in range(0,3):\n",
    "            tmpY.append(yts2[5+j+i])\n",
    "        y.append(tmpY)\n",
    "    \n",
    "\n",
    "x = np.array(x)\n",
    "y = np.array(y)\n",
    "x = x.reshape((x.shape[0], x.shape[1], 1))\n",
    "y = y.reshape((y.shape[0], y.shape[1], 1))\n",
    "\n",
    "\n",
    "m = Sequential()\n",
    "#100は分かりやすいよう。\n",
    "m.add(LSTM(100, activation='relu', input_shape=(5, 1)))\n",
    "m.add(RepeatVector(3)) \n",
    "m.add(LSTM(100, activation='relu', return_sequences=True))\n",
    "m.add(TimeDistributed(Dense(1)))\n",
    "m.compile(optimizer='adam', loss='mse')\n",
    "m.fit(x, y, epochs=1000, verbose=0)\n",
    "\n"
   ]
  },
  {
   "cell_type": "code",
   "execution_count": 36,
   "metadata": {},
   "outputs": [
    {
     "name": "stdout",
     "output_type": "stream",
     "text": [
      "-4.117693849063168e-05\n"
     ]
    }
   ],
   "source": [
    "for i in range(0,5):\n",
    "    input = np.array(xts2[i:i+5]) \n",
    "    input = input.reshape((1,5,1))\n",
    "    yhat = m.predict(input)\n",
    "    s=(yts2[i+5]) ** 2 - (yhat) ** 2\n",
    "    t =+s\n",
    "    \n",
    "e=t/20\n",
    "e = (e[0,0]+e[0,1]+e[0,2])\n",
    "e = e[0]/3\n",
    "print(e)\n"
   ]
  },
  {
   "cell_type": "code",
   "execution_count": 46,
   "metadata": {},
   "outputs": [
    {
     "ename": "KeyError",
     "evalue": "'key of type tuple not found and not a MultiIndex'",
     "output_type": "error",
     "traceback": [
      "\u001b[1;31m---------------------------------------------------------------------------\u001b[0m",
      "\u001b[1;31mKeyError\u001b[0m                                  Traceback (most recent call last)",
      "\u001b[1;32m~\\AppData\\Local\\Temp/ipykernel_14444/3041758378.py\u001b[0m in \u001b[0;36m<module>\u001b[1;34m\u001b[0m\n\u001b[0;32m      3\u001b[0m     \u001b[0minput\u001b[0m \u001b[1;33m=\u001b[0m \u001b[0minput\u001b[0m\u001b[1;33m.\u001b[0m\u001b[0mreshape\u001b[0m\u001b[1;33m(\u001b[0m\u001b[1;33m(\u001b[0m\u001b[1;36m1\u001b[0m\u001b[1;33m,\u001b[0m\u001b[1;36m5\u001b[0m\u001b[1;33m,\u001b[0m\u001b[1;36m1\u001b[0m\u001b[1;33m)\u001b[0m\u001b[1;33m)\u001b[0m\u001b[1;33m\u001b[0m\u001b[1;33m\u001b[0m\u001b[0m\n\u001b[0;32m      4\u001b[0m     \u001b[0myhat\u001b[0m \u001b[1;33m=\u001b[0m \u001b[0mm\u001b[0m\u001b[1;33m.\u001b[0m\u001b[0mpredict\u001b[0m\u001b[1;33m(\u001b[0m\u001b[0minput\u001b[0m\u001b[1;33m)\u001b[0m\u001b[1;33m\u001b[0m\u001b[1;33m\u001b[0m\u001b[0m\n\u001b[1;32m----> 5\u001b[1;33m     \u001b[0mprint\u001b[0m\u001b[1;33m(\u001b[0m\u001b[0myhat\u001b[0m\u001b[1;33m,\u001b[0m\u001b[0myts2\u001b[0m\u001b[1;33m[\u001b[0m\u001b[0mi\u001b[0m\u001b[1;33m+\u001b[0m\u001b[1;36m5\u001b[0m\u001b[1;33m,\u001b[0m\u001b[0mi\u001b[0m\u001b[1;33m+\u001b[0m\u001b[1;36m8\u001b[0m\u001b[1;33m]\u001b[0m\u001b[1;33m)\u001b[0m\u001b[1;33m\u001b[0m\u001b[1;33m\u001b[0m\u001b[0m\n\u001b[0m",
      "\u001b[1;32mD:\\anakonda\\lib\\site-packages\\pandas\\core\\series.py\u001b[0m in \u001b[0;36m__getitem__\u001b[1;34m(self, key)\u001b[0m\n\u001b[0;32m    964\u001b[0m             \u001b[1;32mreturn\u001b[0m \u001b[0mself\u001b[0m\u001b[1;33m.\u001b[0m\u001b[0m_get_values\u001b[0m\u001b[1;33m(\u001b[0m\u001b[0mkey\u001b[0m\u001b[1;33m)\u001b[0m\u001b[1;33m\u001b[0m\u001b[1;33m\u001b[0m\u001b[0m\n\u001b[0;32m    965\u001b[0m \u001b[1;33m\u001b[0m\u001b[0m\n\u001b[1;32m--> 966\u001b[1;33m         \u001b[1;32mreturn\u001b[0m \u001b[0mself\u001b[0m\u001b[1;33m.\u001b[0m\u001b[0m_get_with\u001b[0m\u001b[1;33m(\u001b[0m\u001b[0mkey\u001b[0m\u001b[1;33m)\u001b[0m\u001b[1;33m\u001b[0m\u001b[1;33m\u001b[0m\u001b[0m\n\u001b[0m\u001b[0;32m    967\u001b[0m \u001b[1;33m\u001b[0m\u001b[0m\n\u001b[0;32m    968\u001b[0m     \u001b[1;32mdef\u001b[0m \u001b[0m_get_with\u001b[0m\u001b[1;33m(\u001b[0m\u001b[0mself\u001b[0m\u001b[1;33m,\u001b[0m \u001b[0mkey\u001b[0m\u001b[1;33m)\u001b[0m\u001b[1;33m:\u001b[0m\u001b[1;33m\u001b[0m\u001b[1;33m\u001b[0m\u001b[0m\n",
      "\u001b[1;32mD:\\anakonda\\lib\\site-packages\\pandas\\core\\series.py\u001b[0m in \u001b[0;36m_get_with\u001b[1;34m(self, key)\u001b[0m\n\u001b[0;32m    979\u001b[0m             )\n\u001b[0;32m    980\u001b[0m         \u001b[1;32melif\u001b[0m \u001b[0misinstance\u001b[0m\u001b[1;33m(\u001b[0m\u001b[0mkey\u001b[0m\u001b[1;33m,\u001b[0m \u001b[0mtuple\u001b[0m\u001b[1;33m)\u001b[0m\u001b[1;33m:\u001b[0m\u001b[1;33m\u001b[0m\u001b[1;33m\u001b[0m\u001b[0m\n\u001b[1;32m--> 981\u001b[1;33m             \u001b[1;32mreturn\u001b[0m \u001b[0mself\u001b[0m\u001b[1;33m.\u001b[0m\u001b[0m_get_values_tuple\u001b[0m\u001b[1;33m(\u001b[0m\u001b[0mkey\u001b[0m\u001b[1;33m)\u001b[0m\u001b[1;33m\u001b[0m\u001b[1;33m\u001b[0m\u001b[0m\n\u001b[0m\u001b[0;32m    982\u001b[0m \u001b[1;33m\u001b[0m\u001b[0m\n\u001b[0;32m    983\u001b[0m         \u001b[1;32melif\u001b[0m \u001b[1;32mnot\u001b[0m \u001b[0mis_list_like\u001b[0m\u001b[1;33m(\u001b[0m\u001b[0mkey\u001b[0m\u001b[1;33m)\u001b[0m\u001b[1;33m:\u001b[0m\u001b[1;33m\u001b[0m\u001b[1;33m\u001b[0m\u001b[0m\n",
      "\u001b[1;32mD:\\anakonda\\lib\\site-packages\\pandas\\core\\series.py\u001b[0m in \u001b[0;36m_get_values_tuple\u001b[1;34m(self, key)\u001b[0m\n\u001b[0;32m   1014\u001b[0m \u001b[1;33m\u001b[0m\u001b[0m\n\u001b[0;32m   1015\u001b[0m         \u001b[1;32mif\u001b[0m \u001b[1;32mnot\u001b[0m \u001b[0misinstance\u001b[0m\u001b[1;33m(\u001b[0m\u001b[0mself\u001b[0m\u001b[1;33m.\u001b[0m\u001b[0mindex\u001b[0m\u001b[1;33m,\u001b[0m \u001b[0mMultiIndex\u001b[0m\u001b[1;33m)\u001b[0m\u001b[1;33m:\u001b[0m\u001b[1;33m\u001b[0m\u001b[1;33m\u001b[0m\u001b[0m\n\u001b[1;32m-> 1016\u001b[1;33m             \u001b[1;32mraise\u001b[0m \u001b[0mKeyError\u001b[0m\u001b[1;33m(\u001b[0m\u001b[1;34m\"key of type tuple not found and not a MultiIndex\"\u001b[0m\u001b[1;33m)\u001b[0m\u001b[1;33m\u001b[0m\u001b[1;33m\u001b[0m\u001b[0m\n\u001b[0m\u001b[0;32m   1017\u001b[0m \u001b[1;33m\u001b[0m\u001b[0m\n\u001b[0;32m   1018\u001b[0m         \u001b[1;31m# If key is contained, would have returned by now\u001b[0m\u001b[1;33m\u001b[0m\u001b[1;33m\u001b[0m\u001b[1;33m\u001b[0m\u001b[0m\n",
      "\u001b[1;31mKeyError\u001b[0m: 'key of type tuple not found and not a MultiIndex'"
     ]
    }
   ],
   "source": [
    "for i in range(0,20):\n",
    "    input = np.array(xts2[i:i+5])\n",
    "    input = input.reshape((1,5,1))\n",
    "    yhat = m.predict(input)\n",
    "    print(yhat,yts2[i+5,i+8])"
   ]
  },
  {
   "cell_type": "code",
   "execution_count": null,
   "metadata": {},
   "outputs": [],
   "source": []
  }
 ],
 "metadata": {
  "kernelspec": {
   "display_name": "Python 3",
   "language": "python",
   "name": "python3"
  },
  "language_info": {
   "codemirror_mode": {
    "name": "ipython",
    "version": 3
   },
   "file_extension": ".py",
   "mimetype": "text/x-python",
   "name": "python",
   "nbconvert_exporter": "python",
   "pygments_lexer": "ipython3",
   "version": "3.8.5"
  }
 },
 "nbformat": 4,
 "nbformat_minor": 5
}
