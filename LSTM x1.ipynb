{
 "cells": [
  {
   "cell_type": "code",
   "execution_count": 54,
   "metadata": {},
   "outputs": [],
   "source": [
    "import numpy as np\n",
    "from keras.models import Sequential\n",
    "from keras.layers import Dense\n",
    "from keras.layers import LSTM\n",
    "from keras.layers import RepeatVector\n",
    "from keras.layers import TimeDistributed\n",
    "import pandas as pd\n",
    "from matplotlib import pylab as plt\n",
    "import seaborn as sns\n",
    "%matplotlib inline\n",
    "sns.set()\n",
    "\n",
    "#xdf1 = pd.read_excel('data/xdata1.xlsx')\n",
    "#xdf2 = pd.read_excel('data/xdata2.xlsx')\n",
    "#ydf1 = pd.read_excel('data/ydata1.xlsx')\n",
    "#ydf2 = pd.read_excel('data/ydata2.xlsx')\n",
    "\n",
    "#xts1 = xdf1['#data']\n",
    "#yts1 = ydf1['#data']\n",
    "#xts2 = xdf2['#data']\n",
    "#ts2 = ydf2['#data']"
   ]
  },
  {
   "cell_type": "code",
   "execution_count": 55,
   "metadata": {},
   "outputs": [],
   "source": [
    "xdf1 = pd.read_excel('xdata1.xlsx')\n",
    "xdf2 = pd.read_excel('xdata2.xlsx')\n",
    "ydf1 = pd.read_excel('ydata1.xlsx')\n",
    "ydf2 = pd.read_excel('ydata2.xlsx')\n",
    "\n",
    "xts1 = xdf1['#data']\n",
    "yts1 = ydf1['#data']\n",
    "xts2 = xdf2['#data']\n",
    "yts2 = ydf2['#data']"
   ]
  },
  {
   "cell_type": "code",
   "execution_count": 56,
   "metadata": {},
   "outputs": [
    {
     "data": {
      "text/plain": [
       "<keras.callbacks.History at 0x21051948850>"
      ]
     },
     "execution_count": 56,
     "metadata": {},
     "output_type": "execute_result"
    }
   ],
   "source": [
    "x = [] # train\n",
    "y = [] # test (answer)\n",
    "for i in range(0, 980):\n",
    "        tmpX = []\n",
    "        for j in range(0, 10):\n",
    "            tmpX.append(xts1[i+j])\n",
    "        x.append(tmpX)\n",
    "            \n",
    "        tmpY = []\n",
    "        for j in range(0,1):\n",
    "            tmpY.append(yts1[10+j+i])\n",
    "        y.append(tmpY)\n",
    "    \n",
    "\n",
    "x = np.array(x)\n",
    "y = np.array(y)\n",
    "x = x.reshape((x.shape[0], x.shape[1], 1))\n",
    "y = y.reshape((y.shape[0], y.shape[1], 1))\n",
    "\n",
    "\n",
    "m = Sequential()\n",
    "#100は分かりやすいよう。\n",
    "m.add(LSTM(100, activation='relu', input_shape=(10, 1)))\n",
    "m.add(RepeatVector(1))\n",
    "m.add(LSTM(100, activation='relu', return_sequences=True))\n",
    "m.add(TimeDistributed(Dense(1)))\n",
    "m.compile(optimizer='adam', loss='mse')\n",
    "m.fit(x, y, epochs=1000, verbose=0)"
   ]
  },
  {
   "cell_type": "code",
   "execution_count": 43,
   "metadata": {},
   "outputs": [],
   "source": [
    "input = np.array(xts1[i:i+10]) \n",
    "input = input.reshape((1,10,1))\n",
    "yhat = m.predict(input)"
   ]
  },
  {
   "cell_type": "code",
   "execution_count": 13,
   "metadata": {},
   "outputs": [
    {
     "name": "stdout",
     "output_type": "stream",
     "text": [
      "[[[0.44661233]]]\n"
     ]
    }
   ],
   "source": [
    "print(yhat)"
   ]
  },
  {
   "cell_type": "code",
   "execution_count": 62,
   "metadata": {},
   "outputs": [],
   "source": [
    "predict=[]\n",
    "for i in range(0,100):\n",
    "    input = np.array(xts1[i:i+10]) \n",
    "    input = input.reshape(1,10,1)\n",
    "    yhat = m.predict(input)\n",
    "    predict.append(yhat)"
   ]
  },
  {
   "cell_type": "code",
   "execution_count": 60,
   "metadata": {},
   "outputs": [
    {
     "ename": "AttributeError",
     "evalue": "'list' object has no attribute 'ravel'",
     "output_type": "error",
     "traceback": [
      "\u001b[1;31m---------------------------------------------------------------------------\u001b[0m",
      "\u001b[1;31mAttributeError\u001b[0m                            Traceback (most recent call last)",
      "\u001b[1;32m<ipython-input-60-530136d54d07>\u001b[0m in \u001b[0;36m<module>\u001b[1;34m\u001b[0m\n\u001b[1;32m----> 1\u001b[1;33m \u001b[0mprint\u001b[0m\u001b[1;33m(\u001b[0m\u001b[0mpredict\u001b[0m\u001b[1;33m.\u001b[0m\u001b[0mravel\u001b[0m\u001b[1;33m(\u001b[0m\u001b[1;33m)\u001b[0m\u001b[1;33m)\u001b[0m\u001b[1;33m\u001b[0m\u001b[1;33m\u001b[0m\u001b[0m\n\u001b[0m",
      "\u001b[1;31mAttributeError\u001b[0m: 'list' object has no attribute 'ravel'"
     ]
    }
   ],
   "source": [
    "print(predict.ravel())"
   ]
  },
  {
   "cell_type": "code",
   "execution_count": 47,
   "metadata": {},
   "outputs": [
    {
     "ename": "ValueError",
     "evalue": "x and y can be no greater than 2-D, but have shapes (100,) and (100, 1, 1, 1)",
     "output_type": "error",
     "traceback": [
      "\u001b[1;31m---------------------------------------------------------------------------\u001b[0m",
      "\u001b[1;31mValueError\u001b[0m                                Traceback (most recent call last)",
      "\u001b[1;32m<ipython-input-47-f21ed815395b>\u001b[0m in \u001b[0;36m<module>\u001b[1;34m\u001b[0m\n\u001b[0;32m      1\u001b[0m \u001b[0mplt\u001b[0m\u001b[1;33m.\u001b[0m\u001b[0mplot\u001b[0m\u001b[1;33m(\u001b[0m\u001b[0myts1\u001b[0m\u001b[1;33m[\u001b[0m\u001b[1;36m0\u001b[0m\u001b[1;33m:\u001b[0m\u001b[1;36m100\u001b[0m\u001b[1;33m]\u001b[0m\u001b[1;33m)\u001b[0m\u001b[1;33m\u001b[0m\u001b[1;33m\u001b[0m\u001b[0m\n\u001b[0;32m      2\u001b[0m \u001b[0mxdata\u001b[0m \u001b[1;33m=\u001b[0m \u001b[0mnp\u001b[0m\u001b[1;33m.\u001b[0m\u001b[0marange\u001b[0m\u001b[1;33m(\u001b[0m\u001b[1;36m0\u001b[0m\u001b[1;33m,\u001b[0m\u001b[1;36m100\u001b[0m\u001b[1;33m,\u001b[0m\u001b[1;36m1\u001b[0m\u001b[1;33m)\u001b[0m\u001b[1;33m\u001b[0m\u001b[1;33m\u001b[0m\u001b[0m\n\u001b[1;32m----> 3\u001b[1;33m \u001b[0mplt\u001b[0m\u001b[1;33m.\u001b[0m\u001b[0mplot\u001b[0m\u001b[1;33m(\u001b[0m\u001b[0mxdata\u001b[0m\u001b[1;33m,\u001b[0m \u001b[0mpredict\u001b[0m\u001b[1;33m,\u001b[0m \u001b[1;34m'r'\u001b[0m\u001b[1;33m)\u001b[0m\u001b[1;33m\u001b[0m\u001b[1;33m\u001b[0m\u001b[0m\n\u001b[0m",
      "\u001b[1;32mC:\\anaconda3\\lib\\site-packages\\matplotlib\\pyplot.py\u001b[0m in \u001b[0;36mplot\u001b[1;34m(scalex, scaley, data, *args, **kwargs)\u001b[0m\n\u001b[0;32m   2838\u001b[0m \u001b[1;33m@\u001b[0m\u001b[0m_copy_docstring_and_deprecators\u001b[0m\u001b[1;33m(\u001b[0m\u001b[0mAxes\u001b[0m\u001b[1;33m.\u001b[0m\u001b[0mplot\u001b[0m\u001b[1;33m)\u001b[0m\u001b[1;33m\u001b[0m\u001b[1;33m\u001b[0m\u001b[0m\n\u001b[0;32m   2839\u001b[0m \u001b[1;32mdef\u001b[0m \u001b[0mplot\u001b[0m\u001b[1;33m(\u001b[0m\u001b[1;33m*\u001b[0m\u001b[0margs\u001b[0m\u001b[1;33m,\u001b[0m \u001b[0mscalex\u001b[0m\u001b[1;33m=\u001b[0m\u001b[1;32mTrue\u001b[0m\u001b[1;33m,\u001b[0m \u001b[0mscaley\u001b[0m\u001b[1;33m=\u001b[0m\u001b[1;32mTrue\u001b[0m\u001b[1;33m,\u001b[0m \u001b[0mdata\u001b[0m\u001b[1;33m=\u001b[0m\u001b[1;32mNone\u001b[0m\u001b[1;33m,\u001b[0m \u001b[1;33m**\u001b[0m\u001b[0mkwargs\u001b[0m\u001b[1;33m)\u001b[0m\u001b[1;33m:\u001b[0m\u001b[1;33m\u001b[0m\u001b[1;33m\u001b[0m\u001b[0m\n\u001b[1;32m-> 2840\u001b[1;33m     return gca().plot(\n\u001b[0m\u001b[0;32m   2841\u001b[0m         \u001b[1;33m*\u001b[0m\u001b[0margs\u001b[0m\u001b[1;33m,\u001b[0m \u001b[0mscalex\u001b[0m\u001b[1;33m=\u001b[0m\u001b[0mscalex\u001b[0m\u001b[1;33m,\u001b[0m \u001b[0mscaley\u001b[0m\u001b[1;33m=\u001b[0m\u001b[0mscaley\u001b[0m\u001b[1;33m,\u001b[0m\u001b[1;33m\u001b[0m\u001b[1;33m\u001b[0m\u001b[0m\n\u001b[0;32m   2842\u001b[0m         **({\"data\": data} if data is not None else {}), **kwargs)\n",
      "\u001b[1;32mC:\\anaconda3\\lib\\site-packages\\matplotlib\\axes\\_axes.py\u001b[0m in \u001b[0;36mplot\u001b[1;34m(self, scalex, scaley, data, *args, **kwargs)\u001b[0m\n\u001b[0;32m   1741\u001b[0m         \"\"\"\n\u001b[0;32m   1742\u001b[0m         \u001b[0mkwargs\u001b[0m \u001b[1;33m=\u001b[0m \u001b[0mcbook\u001b[0m\u001b[1;33m.\u001b[0m\u001b[0mnormalize_kwargs\u001b[0m\u001b[1;33m(\u001b[0m\u001b[0mkwargs\u001b[0m\u001b[1;33m,\u001b[0m \u001b[0mmlines\u001b[0m\u001b[1;33m.\u001b[0m\u001b[0mLine2D\u001b[0m\u001b[1;33m)\u001b[0m\u001b[1;33m\u001b[0m\u001b[1;33m\u001b[0m\u001b[0m\n\u001b[1;32m-> 1743\u001b[1;33m         \u001b[0mlines\u001b[0m \u001b[1;33m=\u001b[0m \u001b[1;33m[\u001b[0m\u001b[1;33m*\u001b[0m\u001b[0mself\u001b[0m\u001b[1;33m.\u001b[0m\u001b[0m_get_lines\u001b[0m\u001b[1;33m(\u001b[0m\u001b[1;33m*\u001b[0m\u001b[0margs\u001b[0m\u001b[1;33m,\u001b[0m \u001b[0mdata\u001b[0m\u001b[1;33m=\u001b[0m\u001b[0mdata\u001b[0m\u001b[1;33m,\u001b[0m \u001b[1;33m**\u001b[0m\u001b[0mkwargs\u001b[0m\u001b[1;33m)\u001b[0m\u001b[1;33m]\u001b[0m\u001b[1;33m\u001b[0m\u001b[1;33m\u001b[0m\u001b[0m\n\u001b[0m\u001b[0;32m   1744\u001b[0m         \u001b[1;32mfor\u001b[0m \u001b[0mline\u001b[0m \u001b[1;32min\u001b[0m \u001b[0mlines\u001b[0m\u001b[1;33m:\u001b[0m\u001b[1;33m\u001b[0m\u001b[1;33m\u001b[0m\u001b[0m\n\u001b[0;32m   1745\u001b[0m             \u001b[0mself\u001b[0m\u001b[1;33m.\u001b[0m\u001b[0madd_line\u001b[0m\u001b[1;33m(\u001b[0m\u001b[0mline\u001b[0m\u001b[1;33m)\u001b[0m\u001b[1;33m\u001b[0m\u001b[1;33m\u001b[0m\u001b[0m\n",
      "\u001b[1;32mC:\\anaconda3\\lib\\site-packages\\matplotlib\\axes\\_base.py\u001b[0m in \u001b[0;36m__call__\u001b[1;34m(self, data, *args, **kwargs)\u001b[0m\n\u001b[0;32m    271\u001b[0m                 \u001b[0mthis\u001b[0m \u001b[1;33m+=\u001b[0m \u001b[0margs\u001b[0m\u001b[1;33m[\u001b[0m\u001b[1;36m0\u001b[0m\u001b[1;33m]\u001b[0m\u001b[1;33m,\u001b[0m\u001b[1;33m\u001b[0m\u001b[1;33m\u001b[0m\u001b[0m\n\u001b[0;32m    272\u001b[0m                 \u001b[0margs\u001b[0m \u001b[1;33m=\u001b[0m \u001b[0margs\u001b[0m\u001b[1;33m[\u001b[0m\u001b[1;36m1\u001b[0m\u001b[1;33m:\u001b[0m\u001b[1;33m]\u001b[0m\u001b[1;33m\u001b[0m\u001b[1;33m\u001b[0m\u001b[0m\n\u001b[1;32m--> 273\u001b[1;33m             \u001b[1;32myield\u001b[0m \u001b[1;32mfrom\u001b[0m \u001b[0mself\u001b[0m\u001b[1;33m.\u001b[0m\u001b[0m_plot_args\u001b[0m\u001b[1;33m(\u001b[0m\u001b[0mthis\u001b[0m\u001b[1;33m,\u001b[0m \u001b[0mkwargs\u001b[0m\u001b[1;33m)\u001b[0m\u001b[1;33m\u001b[0m\u001b[1;33m\u001b[0m\u001b[0m\n\u001b[0m\u001b[0;32m    274\u001b[0m \u001b[1;33m\u001b[0m\u001b[0m\n\u001b[0;32m    275\u001b[0m     \u001b[1;32mdef\u001b[0m \u001b[0mget_next_color\u001b[0m\u001b[1;33m(\u001b[0m\u001b[0mself\u001b[0m\u001b[1;33m)\u001b[0m\u001b[1;33m:\u001b[0m\u001b[1;33m\u001b[0m\u001b[1;33m\u001b[0m\u001b[0m\n",
      "\u001b[1;32mC:\\anaconda3\\lib\\site-packages\\matplotlib\\axes\\_base.py\u001b[0m in \u001b[0;36m_plot_args\u001b[1;34m(self, tup, kwargs)\u001b[0m\n\u001b[0;32m    400\u001b[0m                              f\"have shapes {x.shape} and {y.shape}\")\n\u001b[0;32m    401\u001b[0m         \u001b[1;32mif\u001b[0m \u001b[0mx\u001b[0m\u001b[1;33m.\u001b[0m\u001b[0mndim\u001b[0m \u001b[1;33m>\u001b[0m \u001b[1;36m2\u001b[0m \u001b[1;32mor\u001b[0m \u001b[0my\u001b[0m\u001b[1;33m.\u001b[0m\u001b[0mndim\u001b[0m \u001b[1;33m>\u001b[0m \u001b[1;36m2\u001b[0m\u001b[1;33m:\u001b[0m\u001b[1;33m\u001b[0m\u001b[1;33m\u001b[0m\u001b[0m\n\u001b[1;32m--> 402\u001b[1;33m             raise ValueError(f\"x and y can be no greater than 2-D, but have \"\n\u001b[0m\u001b[0;32m    403\u001b[0m                              f\"shapes {x.shape} and {y.shape}\")\n\u001b[0;32m    404\u001b[0m         \u001b[1;32mif\u001b[0m \u001b[0mx\u001b[0m\u001b[1;33m.\u001b[0m\u001b[0mndim\u001b[0m \u001b[1;33m==\u001b[0m \u001b[1;36m1\u001b[0m\u001b[1;33m:\u001b[0m\u001b[1;33m\u001b[0m\u001b[1;33m\u001b[0m\u001b[0m\n",
      "\u001b[1;31mValueError\u001b[0m: x and y can be no greater than 2-D, but have shapes (100,) and (100, 1, 1, 1)"
     ]
    },
    {
     "data": {
      "image/png": "[encoded data removed]",
      "text/plain": [
       "<Figure size 432x288 with 1 Axes>"
      ]
     },
     "metadata": {},
     "output_type": "display_data"
    }
   ],
   "source": [
    "plt.plot(yts1[0:100])\n",
    "xdata = np.arange(0,100,1)\n",
    "plt.plot(xdata, predict, 'r')"
   ]
  },
  {
   "cell_type": "code",
   "execution_count": 11,
   "metadata": {},
   "outputs": [
    {
     "data": {
      "text/plain": [
       "[<matplotlib.lines.Line2D at 0x21048bf98e0>]"
      ]
     },
     "execution_count": 11,
     "metadata": {},
     "output_type": "execute_result"
    },
    {
     "data": {
      "image/png": "[encoded data removed]",
      "text/plain": [
       "<Figure size 432x288 with 1 Axes>"
      ]
     },
     "metadata": {},
     "output_type": "display_data"
    }
   ],
   "source": [
    "plt.plot(yts1[0:100])"
   ]
  },
  {
   "cell_type": "code",
   "execution_count": 86,
   "metadata": {},
   "outputs": [
    {
     "name": "stdout",
     "output_type": "stream",
     "text": [
      "[[[0.3126424]]] 0.30621521\n",
      "[[[0.59586513]]] 0.60179527\n",
      "[[[1.2042658]]] 1.2347079\n",
      "[[[1.835358]]] 1.8841497\n",
      "[[[2.3179774]]] 2.3523475\n",
      "[[[2.5519392]]] 2.5737296\n",
      "[[[2.577691]]] 2.5815242\n",
      "[[[2.4647253]]] 2.4585884\n",
      "[[[2.3012383]]] 2.2932309\n",
      "[[[2.1557515]]] 2.1510423\n",
      "[[[2.053759]]] 2.0646435\n",
      "[[[1.5660903]]] 1.5574684\n",
      "[[[0.56640446]]] 0.56683073\n",
      "[[[-0.4083889]]] -0.42290051\n",
      "[[[-1.0955375]]] -1.1207282\n",
      "[[[-1.41477]]] -1.437599\n",
      "[[[-1.4117663]]] -1.4321095\n",
      "[[[-1.2149585]]] -1.2343923\n",
      "[[[-0.9639341]]] -0.97928762\n",
      "[[[-0.766129]]] -0.76477249\n"
     ]
    }
   ],
   "source": [
    "\n",
    "for i in range(0,20):\n",
    "    input = np.array(xts1[i:i+10])\n",
    "    input = input.reshape((1,10,1))\n",
    "    yhat = m.predict(input)\n",
    "    print(yhat,yts1[i+10])\n",
    "    "
   ]
  },
  {
   "cell_type": "code",
   "execution_count": 78,
   "metadata": {},
   "outputs": [
    {
     "name": "stdout",
     "output_type": "stream",
     "text": [
      "9.440648379192377e-06\n"
     ]
    }
   ],
   "source": [
    "for i in range(0,20):\n",
    "    input = np.array(xts1[i:i+10]) \n",
    "    input = input.reshape((1,10,1))\n",
    "    yhat = m.predict(input)\n",
    "    s=(yts1[i+10]-yhat) ** 2\n",
    "    t = +s\n",
    "    \n",
    "e=t/20\n",
    "print(e)\n",
    "e = (e[0,0]+e[0,1]+e[0,2])\n",
    "e = e[0]/3\n",
    "print(e)"
   ]
  },
  {
   "cell_type": "code",
   "execution_count": 79,
   "metadata": {},
   "outputs": [
    {
     "name": "stdout",
     "output_type": "stream",
     "text": [
      "[[[1.3612493e-05]\n",
      "  [1.2834216e-05]\n",
      "  [1.2902778e-05]]]\n"
     ]
    }
   ],
   "source": [
    "x = [] # train\n",
    "y = [] # test (answer)\n",
    "for i in range(0, 880):\n",
    "        tmpX = []\n",
    "        for j in range(0, 10):\n",
    "            tmpX.append(xts1[i+j])\n",
    "        x.append(tmpX)\n",
    "            \n",
    "        tmpY = []\n",
    "        for j in range(0,1):\n",
    "            tmpY.append(yts1[10+j+i])\n",
    "        y.append(tmpY)\n",
    "    \n",
    "\n",
    "x = np.array(x)\n",
    "y = np.array(y)\n",
    "x = x.reshape((x.shape[0], x.shape[1], 1))\n",
    "y = y.reshape((y.shape[0], y.shape[1], 1))\n",
    "\n",
    "\n",
    "m = Sequential()\n",
    "#100は分かりやすいよう。\n",
    "m.add(LSTM(100, activation='relu', input_shape=(10, 1)))\n",
    "m.add(RepeatVector(3)) \n",
    "m.add(LSTM(100, activation='relu', return_sequences=True))\n",
    "m.add(TimeDistributed(Dense(1)))\n",
    "m.compile(optimizer='adam', loss='mse')\n",
    "m.fit(x, y, epochs=1000, verbose=0)\n",
    "\n",
    "#20データを最小二乗法で評価\n",
    "for i in range(0,20):\n",
    "    input = np.array(xts1[i:i+10]) \n",
    "    input = input.reshape((1,10,1))\n",
    "    yhat = m.predict(input)\n",
    "    s=(yts1[i+10]-yhat) ** 2\n",
    "    t = +s\n",
    "    \n",
    "e=t/20\n",
    "print(e)"
   ]
  },
  {
   "cell_type": "code",
   "execution_count": 80,
   "metadata": {},
   "outputs": [
    {
     "name": "stdout",
     "output_type": "stream",
     "text": [
      "1.3116494907687107e-05\n"
     ]
    }
   ],
   "source": [
    "e = (e[0,0]+e[0,1]+e[0,2])\n",
    "e = e[0]/3\n",
    "print(e)"
   ]
  },
  {
   "cell_type": "code",
   "execution_count": 82,
   "metadata": {},
   "outputs": [
    {
     "name": "stdout",
     "output_type": "stream",
     "text": [
      "[[[1.7601848e-05]\n",
      "  [1.8075705e-05]\n",
      "  [1.4686581e-05]]]\n"
     ]
    }
   ],
   "source": [
    "x = [] # train\n",
    "y = [] # test (answer)\n",
    "for i in range(0, 550):\n",
    "        tmpX = []\n",
    "        for j in range(0, 10):\n",
    "            tmpX.append(xts1[i+j])\n",
    "        x.append(tmpX)\n",
    "            \n",
    "        tmpY = []\n",
    "        for j in range(0,1):\n",
    "            tmpY.append(yts1[10+j+i])\n",
    "        y.append(tmpY)\n",
    "    \n",
    "\n",
    "x = np.array(x)\n",
    "y = np.array(y)\n",
    "x = x.reshape((x.shape[0], x.shape[1], 1))\n",
    "y = y.reshape((y.shape[0], y.shape[1], 1))\n",
    "\n",
    "\n",
    "m = Sequential()\n",
    "#100は分かりやすいよう。\n",
    "m.add(LSTM(100, activation='relu', input_shape=(10, 1)))\n",
    "m.add(RepeatVector(3)) \n",
    "m.add(LSTM(100, activation='relu', return_sequences=True))\n",
    "m.add(TimeDistributed(Dense(1)))\n",
    "m.compile(optimizer='adam', loss='mse')\n",
    "m.fit(x, y, epochs=1000, verbose=0)\n",
    "\n",
    "#20データを最小二乗法で評価\n",
    "for i in range(0,20):\n",
    "    input = np.array(xts1[i:i+10]) \n",
    "    input = input.reshape((1,10,1))\n",
    "    yhat = m.predict(input)\n",
    "    s=(yts1[i+10]-yhat) ** 2\n",
    "    t = +s\n",
    "    \n",
    "e=t/20\n",
    "print(e)"
   ]
  },
  {
   "cell_type": "code",
   "execution_count": null,
   "metadata": {},
   "outputs": [],
   "source": [
    "e = (e[0,0]+e[0,1]+e[0,2])\n",
    "e = e[0]/3\n",
    "print(e)"
   ]
  },
  {
   "cell_type": "code",
   "execution_count": 21,
   "metadata": {},
   "outputs": [
    {
     "name": "stdout",
     "output_type": "stream",
     "text": [
      "[[[0.00560156]]]\n"
     ]
    }
   ],
   "source": [
    "#15データ\n",
    "x = [] # train\n",
    "y = [] # test (answer)\n",
    "for i in range(0, 80):\n",
    "        tmpX = []\n",
    "        for j in range(0, 15):\n",
    "            tmpX.append(xts1[i+j])\n",
    "        x.append(tmpX)\n",
    "            \n",
    "        tmpY = []\n",
    "        for j in range(0,1):\n",
    "            tmpY.append(yts1[15+j+i])\n",
    "        y.append(tmpY)\n",
    "    \n",
    "\n",
    "x = np.array(x)\n",
    "y = np.array(y)\n",
    "x = x.reshape((x.shape[0], x.shape[1], 1))\n",
    "y = y.reshape((y.shape[0], y.shape[1], 1))\n",
    "\n",
    "\n",
    "m = Sequential()\n",
    "#100は分かりやすいよう。\n",
    "m.add(LSTM(100, activation='relu', input_shape=(15, 1)))\n",
    "m.add(RepeatVector(1)) \n",
    "m.add(LSTM(100, activation='relu', return_sequences=True))\n",
    "m.add(TimeDistributed(Dense(1)))\n",
    "m.compile(optimizer='adam', loss='mse')\n",
    "m.fit(x, y, epochs=1000, verbose=0)\n",
    "\n",
    "for i in range(0,20):\n",
    "    input = np.array(xts1[i:i+15]) \n",
    "    input = input.reshape((1,15,1))\n",
    "    yhat = m.predict(input)\n",
    "    s=(yts1[i+15]) ** 2 - (yhat) ** 2\n",
    "    t = +s\n",
    "    \n",
    "e=t/20\n",
    "print(e)"
   ]
  },
  {
   "cell_type": "code",
   "execution_count": 30,
   "metadata": {},
   "outputs": [
    {
     "name": "stdout",
     "output_type": "stream",
     "text": [
      "[[[-0.00524046]]]\n"
     ]
    }
   ],
   "source": [
    "#20データ\n",
    "x = [] # train\n",
    "y = [] # test (answer)\n",
    "for i in range(0, 80):\n",
    "        tmpX = []\n",
    "        for j in range(0, 20):\n",
    "            tmpX.append(xts1[i+j])\n",
    "        x.append(tmpX)\n",
    "            \n",
    "        tmpY = []\n",
    "        for j in range(0,1):\n",
    "            tmpY.append(yts1[20+j+i])\n",
    "        y.append(tmpY)\n",
    "    \n",
    "\n",
    "x = np.array(x)\n",
    "y = np.array(y)\n",
    "x = x.reshape((x.shape[0], x.shape[1], 1))\n",
    "y = y.reshape((y.shape[0], y.shape[1], 1))\n",
    "\n",
    "\n",
    "m = Sequential()\n",
    "#100は分かりやすいよう。\n",
    "m.add(LSTM(100, activation='relu', input_shape=(20, 1)))\n",
    "m.add(RepeatVector(1)) \n",
    "m.add(LSTM(100, activation='relu', return_sequences=True))\n",
    "m.add(TimeDistributed(Dense(1)))\n",
    "m.compile(optimizer='adam', loss='mse')\n",
    "m.fit(x, y, epochs=1000, verbose=0)\n",
    "\n",
    "for i in range(0,20):\n",
    "    input = np.array(xts1[i:i+20]) \n",
    "    input = input.reshape((1,20,1))\n",
    "    yhat = m.predict(input)\n",
    "    s=(yts1[i+20]) ** 2 - (yhat) ** 2\n",
    "    t = +s\n",
    "    \n",
    "e=t/20\n",
    "print(e)\n"
   ]
  },
  {
   "cell_type": "code",
   "execution_count": 31,
   "metadata": {},
   "outputs": [
    {
     "name": "stdout",
     "output_type": "stream",
     "text": [
      "[[[3.4818055e-05]]]\n"
     ]
    }
   ],
   "source": [
    "#25データ\n",
    "x = [] # train\n",
    "y = [] # test (answer)\n",
    "for i in range(0, 75):\n",
    "        tmpX = []\n",
    "        for j in range(0, 25):\n",
    "            tmpX.append(xts1[i+j])\n",
    "        x.append(tmpX)\n",
    "            \n",
    "        tmpY = []\n",
    "        for j in range(0,1):\n",
    "            tmpY.append(yts1[25+j+i])\n",
    "        y.append(tmpY)\n",
    "    \n",
    "\n",
    "x = np.array(x)\n",
    "y = np.array(y)\n",
    "x = x.reshape((x.shape[0], x.shape[1], 1))\n",
    "y = y.reshape((y.shape[0], y.shape[1], 1))\n",
    "\n",
    "\n",
    "m = Sequential()\n",
    "#100は分かりやすいよう。\n",
    "m.add(LSTM(100, activation='relu', input_shape=(25, 1)))\n",
    "m.add(RepeatVector(1)) \n",
    "m.add(LSTM(100, activation='relu', return_sequences=True))\n",
    "m.add(TimeDistributed(Dense(1)))\n",
    "m.compile(optimizer='adam', loss='mse')\n",
    "m.fit(x, y, epochs=1000, verbose=0)\n",
    "\n",
    "for i in range(0,25):\n",
    "    input = np.array(xts1[i:i+25]) \n",
    "    input = input.reshape((1,25,1))\n",
    "    yhat = m.predict(input)\n",
    "    s=(yts1[i+25]) ** 2 - (yhat) ** 2\n",
    "    t = +s\n",
    "    \n",
    "e=t/20\n",
    "print(e)\n"
   ]
  },
  {
   "cell_type": "code",
   "execution_count": null,
   "metadata": {},
   "outputs": [],
   "source": []
  },
  {
   "cell_type": "code",
   "execution_count": 27,
   "metadata": {},
   "outputs": [
    {
     "name": "stdout",
     "output_type": "stream",
     "text": [
      "[[[-0.00716124]]]\n"
     ]
    }
   ],
   "source": [
    "#30データ\n",
    "x = [] # train\n",
    "y = [] # test (answer)\n",
    "for i in range(0, 65):\n",
    "        tmpX = []\n",
    "        for j in range(0, 30):\n",
    "            tmpX.append(xts1[i+j])\n",
    "        x.append(tmpX)\n",
    "            \n",
    "        tmpY = []\n",
    "        for j in range(0,1):\n",
    "            tmpY.append(yts1[30+j+i])\n",
    "        y.append(tmpY)\n",
    "    \n",
    "\n",
    "x = np.array(x)\n",
    "y = np.array(y)\n",
    "x = x.reshape((x.shape[0], x.shape[1], 1))\n",
    "y = y.reshape((y.shape[0], y.shape[1], 1))\n",
    "\n",
    "\n",
    "m = Sequential()\n",
    "#100は分かりやすいよう。\n",
    "m.add(LSTM(100, activation='relu', input_shape=(30, 1)))\n",
    "m.add(RepeatVector(1)) \n",
    "m.add(LSTM(100, activation='relu', return_sequences=True))\n",
    "m.add(TimeDistributed(Dense(1)))\n",
    "m.compile(optimizer='adam', loss='mse')\n",
    "m.fit(x, y, epochs=1000, verbose=0)\n",
    "\n",
    "for i in range(0,30):\n",
    "    input = np.array(xts1[i:i+30]) \n",
    "    input = input.reshape((1,30,1))\n",
    "    yhat = m.predict(input)\n",
    "    s=(yts1[i+15]) ** 2 - (yhat) ** 2\n",
    "    t = +s\n",
    "    \n",
    "e=t/20\n",
    "print(e)\n"
   ]
  },
  {
   "cell_type": "code",
   "execution_count": 36,
   "metadata": {},
   "outputs": [
    {
     "name": "stdout",
     "output_type": "stream",
     "text": [
      "[[[0.00224608]]]\n"
     ]
    }
   ],
   "source": [
    "#30データ\n",
    "x = [] # train\n",
    "y = [] # test (answer)\n",
    "for i in range(0, 50):\n",
    "        tmpX = []\n",
    "        for j in range(0, 50):\n",
    "            tmpX.append(xts1[i+j])\n",
    "        x.append(tmpX)\n",
    "            \n",
    "        tmpY = []\n",
    "        for j in range(0,1):\n",
    "            tmpY.append(yts1[30+j+i])\n",
    "        y.append(tmpY)\n",
    "    \n",
    "\n",
    "x = np.array(x)\n",
    "y = np.array(y)\n",
    "x = x.reshape((x.shape[0], x.shape[1], 1))\n",
    "y = y.reshape((y.shape[0], y.shape[1], 1))\n",
    "\n",
    "\n",
    "m = Sequential()\n",
    "#100は分かりやすいよう。\n",
    "m.add(LSTM(100, activation='relu', input_shape=(50, 1)))\n",
    "m.add(RepeatVector(1)) \n",
    "m.add(LSTM(100, activation='relu', return_sequences=True))\n",
    "m.add(TimeDistributed(Dense(1)))\n",
    "m.compile(optimizer='adam', loss='mse')\n",
    "m.fit(x, y, epochs=1000, verbose=0)\n",
    "\n",
    "for i in range(0,50):\n",
    "    input = np.array(xts1[i:i+50]) \n",
    "    input = input.reshape((1,50,1))\n",
    "    yhat = m.predict(input)\n",
    "    s=(yts1[i+50]) ** 2 - (yhat) ** 2\n",
    "    t = +s\n",
    "    \n",
    "e=t/20\n",
    "print(e)\n"
   ]
  },
  {
   "cell_type": "code",
   "execution_count": 33,
   "metadata": {},
   "outputs": [
    {
     "name": "stdout",
     "output_type": "stream",
     "text": [
      "[[[0.3310652]]]\n"
     ]
    }
   ],
   "source": [
    "#1データ\n",
    "x = [] # train\n",
    "y = [] # test (answer)\n",
    "for i in range(0, 1):\n",
    "        tmpX = []\n",
    "        for j in range(0, 1):\n",
    "            tmpX.append(xts1[i+j])\n",
    "        x.append(tmpX)\n",
    "            \n",
    "        tmpY = []\n",
    "        for j in range(0,1):\n",
    "            tmpY.append(yts1[1+j+i])\n",
    "        y.append(tmpY)\n",
    "    \n",
    "\n",
    "x = np.array(x)\n",
    "y = np.array(y)\n",
    "x = x.reshape((x.shape[0], x.shape[1], 1))\n",
    "y = y.reshape((y.shape[0], y.shape[1], 1))\n",
    "\n",
    "\n",
    "m = Sequential()\n",
    "#100は分かりやすいよう。\n",
    "m.add(LSTM(100, activation='relu', input_shape=(1,1)))\n",
    "m.add(RepeatVector(1)) \n",
    "m.add(LSTM(100, activation='relu', return_sequences=True))\n",
    "m.add(TimeDistributed(Dense(1)))\n",
    "m.compile(optimizer='adam', loss='mse')\n",
    "m.fit(x, y, epochs=1000, verbose=0)\n",
    "\n",
    "for i in range(0,1):\n",
    "    input = np.array(xts1[i:i+1])\n",
    "    input = input.reshape((1,1,1))\n",
    "    yhat = m.predict(input)\n",
    "    s=(yts1[i+15]) ** 2 - (yhat) ** 2\n",
    "    t = +s\n",
    "    \n",
    "e=t/20\n",
    "print(e)\n"
   ]
  },
  {
   "cell_type": "code",
   "execution_count": 35,
   "metadata": {},
   "outputs": [
    {
     "name": "stdout",
     "output_type": "stream",
     "text": [
      "[[[0.226101]]]\n"
     ]
    }
   ],
   "source": [
    "#5データ\n",
    "x = [] # train\n",
    "y = [] # test (answer)\n",
    "for i in range(0, 90):\n",
    "        tmpX = []\n",
    "        for j in range(0, 5):\n",
    "            tmpX.append(xts1[i+j])\n",
    "        x.append(tmpX)\n",
    "            \n",
    "        tmpY = []\n",
    "        for j in range(0,1):\n",
    "            tmpY.append(yts1[5+j+i])\n",
    "        y.append(tmpY)\n",
    "    \n",
    "\n",
    "x = np.array(x)\n",
    "y = np.array(y)\n",
    "x = x.reshape((x.shape[0], x.shape[1], 1))\n",
    "y = y.reshape((y.shape[0], y.shape[1], 1))\n",
    "\n",
    "\n",
    "m = Sequential()\n",
    "#100は分かりやすいよう。\n",
    "m.add(LSTM(100, activation='relu', input_shape=(5, 1)))\n",
    "m.add(RepeatVector(1)) \n",
    "m.add(LSTM(100, activation='relu', return_sequences=True))\n",
    "m.add(TimeDistributed(Dense(1)))\n",
    "m.compile(optimizer='adam', loss='mse')\n",
    "m.fit(x, y, epochs=1000, verbose=0)\n",
    "\n",
    "for i in range(0,5):\n",
    "    input = np.array(xts1[i:i+5]) \n",
    "    input = input.reshape((1,5,1))\n",
    "    yhat = m.predict(input)\n",
    "    s=(yts1[i+15]) ** 2 - (yhat) ** 2\n",
    "    t =+s\n",
    "    \n",
    "e=t/20\n",
    "print(e)\n"
   ]
  },
  {
   "cell_type": "code",
   "execution_count": 70,
   "metadata": {},
   "outputs": [
    {
     "name": "stdout",
     "output_type": "stream",
     "text": [
      "0.009726124505201975\n"
     ]
    }
   ],
   "source": [
    "#10データ\n",
    "x = [] # train\n",
    "y = [] # test (answer)\n",
    "for i in range(0, 880):\n",
    "        tmpX = []\n",
    "        for j in range(0, 10):\n",
    "            tmpX.append(xts1[i+j])\n",
    "        x.append(tmpX)\n",
    "            \n",
    "        tmpY = []\n",
    "        for j in range(0,3):\n",
    "            tmpY.append(yts1[10+j+i])\n",
    "        y.append(tmpY)\n",
    "    \n",
    "\n",
    "x = np.array(x)\n",
    "y = np.array(y)\n",
    "x = x.reshape((x.shape[0], x.shape[1], 1))\n",
    "y = y.reshape((y.shape[0], y.shape[1], 1))\n",
    "\n",
    "\n",
    "m = Sequential()\n",
    "#100は分かりやすいよう。\n",
    "m.add(LSTM(100, activation='relu', input_shape=(10, 1)))\n",
    "m.add(RepeatVector(3)) \n",
    "m.add(LSTM(100, activation='relu', return_sequences=True))\n",
    "m.add(TimeDistributed(Dense(1)))\n",
    "m.compile(optimizer='adam', loss='mse')\n",
    "m.fit(x, y, epochs=1000, verbose=0)\n",
    "\n",
    "for i in range(0,20):\n",
    "    input = np.array(xts1[i:i+10]) \n",
    "    input = input.reshape((1,10,1))\n",
    "    yhat = m.predict(input)\n",
    "    s=(yts1[i+10]) ** 2 - (yhat) ** 2\n",
    "    t =+s\n",
    "    \n",
    "e=t/20\n",
    "e = (e[0,0]+e[0,1]+e[0,2])\n",
    "e = e[0]/3\n",
    "print(e)\n",
    "\n"
   ]
  },
  {
   "cell_type": "code",
   "execution_count": null,
   "metadata": {},
   "outputs": [],
   "source": []
  },
  {
   "cell_type": "code",
   "execution_count": null,
   "metadata": {},
   "outputs": [],
   "source": []
  },
  {
   "cell_type": "code",
   "execution_count": 81,
   "metadata": {},
   "outputs": [
    {
     "name": "stdout",
     "output_type": "stream",
     "text": [
      "0.0004319273478661974\n"
     ]
    }
   ],
   "source": [
    "x = [] # train\n",
    "y = [] # test (answer)\n",
    "for i in range(0, 900):\n",
    "        tmpX = []\n",
    "        for j in range(0, 50):\n",
    "            tmpX.append(xts1[i+j])\n",
    "        x.append(tmpX)\n",
    "            \n",
    "        tmpY = []\n",
    "        for j in range(0,3):\n",
    "            tmpY.append(yts1[50+j+i])\n",
    "        y.append(tmpY)\n",
    "    \n",
    "\n",
    "x = np.array(x)\n",
    "y = np.array(y)\n",
    "x = x.reshape((x.shape[0], x.shape[1], 1))\n",
    "y = y.reshape((y.shape[0], y.shape[1], 1))\n",
    "\n",
    "\n",
    "m = Sequential()\n",
    "#100は分かりやすいよう。\n",
    "m.add(LSTM(100, activation='relu', input_shape=(50, 1)))\n",
    "m.add(RepeatVector(3)) \n",
    "m.add(LSTM(100, activation='relu', return_sequences=True))\n",
    "m.add(TimeDistributed(Dense(1)))\n",
    "m.compile(optimizer='adam', loss='mse')\n",
    "m.fit(x, y, epochs=1000, verbose=0)\n",
    "\n",
    "for i in range(0,20):\n",
    "    input = np.array(xts1[i:i+50]) \n",
    "    input = input.reshape((1,50,1))\n",
    "    yhat = m.predict(input)\n",
    "    s=(yts1[i+50]- (yhat)) ** 2\n",
    "    t =+s\n",
    "    \n",
    "e=t/20\n",
    "e = (e[0,0]+e[0,1]+e[0,2])\n",
    "e = e[0]/3\n",
    "print(e)"
   ]
  },
  {
   "cell_type": "code",
   "execution_count": null,
   "metadata": {},
   "outputs": [],
   "source": []
  },
  {
   "cell_type": "code",
   "execution_count": 83,
   "metadata": {},
   "outputs": [
    {
     "name": "stdout",
     "output_type": "stream",
     "text": [
      "nan\n"
     ]
    }
   ],
   "source": [
    "x = [] # train\n",
    "y = [] # test (answer)\n",
    "for i in range(0, 860):\n",
    "        tmpX = []\n",
    "        for j in range(0,100):\n",
    "            tmpX.append(xts1[i+j])\n",
    "        x.append(tmpX)\n",
    "            \n",
    "        tmpY = []\n",
    "        for j in range(0,3):\n",
    "            tmpY.append(yts1[30+j+i])\n",
    "        y.append(tmpY)\n",
    "    \n",
    "\n",
    "x = np.array(x)\n",
    "y = np.array(y)\n",
    "x = x.reshape((x.shape[0], x.shape[1], 1))\n",
    "y = y.reshape((y.shape[0], y.shape[1], 1))\n",
    "\n",
    "\n",
    "m = Sequential()\n",
    "#100は分かりやすいよう。\n",
    "m.add(LSTM(100, activation='relu', input_shape=(100, 1)))\n",
    "m.add(RepeatVector(3)) \n",
    "m.add(LSTM(100, activation='relu', return_sequences=True))\n",
    "m.add(TimeDistributed(Dense(1)))\n",
    "m.compile(optimizer='adam', loss='mse')\n",
    "m.fit(x, y, epochs=1000, verbose=0)\n",
    "\n",
    "for i in range(0,20):\n",
    "    input = np.array(xts1[i:i+100]) \n",
    "    input = input.reshape((1,100,1))\n",
    "    yhat = m.predict(input)\n",
    "    s=(yts1[i+100]- (yhat)) ** 2\n",
    "    t =+s\n",
    "    \n",
    "e=t/20\n",
    "e = (e[0,0]+e[0,1]+e[0,2])\n",
    "e = e[0]/3\n",
    "print(e)"
   ]
  },
  {
   "cell_type": "code",
   "execution_count": null,
   "metadata": {},
   "outputs": [],
   "source": [
    "for i in range(0,20):\n",
    "    input = np.array(xts1[i:i+20]) \n",
    "    input = input.reshape((1,20,1))\n",
    "    yhat = m.predict(input)\n",
    "    s=(yts1[i+20]) ** 2 - (yhat) ** 2\n",
    "    t =+s\n",
    "    \n",
    "e=t/20\n",
    "e = (e[0,0]+e[0,1]+e[0,2])\n",
    "e = e[0]/3\n",
    "print(e)"
   ]
  },
  {
   "cell_type": "code",
   "execution_count": 48,
   "metadata": {},
   "outputs": [
    {
     "name": "stdout",
     "output_type": "stream",
     "text": [
      "0.046663319071133934\n"
     ]
    }
   ],
   "source": [
    "for i in range(0,20):\n",
    "    input = np.array(xts1[i:i+20]) \n",
    "    input = input.reshape((1,20,1))\n",
    "    yhat = m.predict(input)\n",
    "    s=(yts1[i+15]) ** 2 - (yhat) ** 2\n",
    "    t =+s\n",
    "    \n",
    "e=t/20\n",
    "e = (e[0,0]+e[0,1]+e[0,2])\n",
    "e = e[0]/3\n",
    "print(e)"
   ]
  },
  {
   "cell_type": "code",
   "execution_count": 4,
   "metadata": {},
   "outputs": [
    {
     "name": "stdout",
     "output_type": "stream",
     "text": [
      "WARNING:tensorflow:Model was constructed with shape (None, 40, 1) for input KerasTensor(type_spec=TensorSpec(shape=(None, 40, 1), dtype=tf.float32, name='lstm_input'), name='lstm_input', description=\"created by layer 'lstm_input'\"), but it was called on an input with incompatible shape (None, 20, 1).\n",
      "[[[2.088184 ]\n",
      "  [1.8140316]\n",
      "  [1.0972562]]] 20    2.064643\n",
      "21    1.557468\n",
      "22    0.566831\n",
      "Name: #data, dtype: float64\n",
      "[[[ 1.6180547]\n",
      "  [ 0.5791641]\n",
      "  [-0.5485634]]] 21    1.557468\n",
      "22    0.566831\n",
      "23   -0.422901\n",
      "Name: #data, dtype: float64\n",
      "[[[ 0.545032  ]\n",
      "  [-0.47620076]\n",
      "  [-1.2020992 ]]] 22    0.566831\n",
      "23   -0.422901\n",
      "24   -1.120728\n",
      "Name: #data, dtype: float64\n",
      "[[[-0.49491465]\n",
      "  [-1.2183304 ]\n",
      "  [-1.5120014 ]]] 23   -0.422901\n",
      "24   -1.120728\n",
      "25   -1.437599\n",
      "Name: #data, dtype: float64\n",
      "[[[-1.2081717]\n",
      "  [-1.5193932]\n",
      "  [-1.4465498]]] 24   -1.120728\n",
      "25   -1.437599\n",
      "26   -1.432109\n",
      "Name: #data, dtype: float64\n",
      "[[[-1.4934608]\n",
      "  [-1.4572741]\n",
      "  [-1.1910747]]] 25   -1.437599\n",
      "26   -1.432109\n",
      "27   -1.234392\n",
      "Name: #data, dtype: float64\n",
      "[[[-1.4813054]\n",
      "  [-1.2179801]\n",
      "  [-0.8875188]]] 26   -1.432109\n",
      "27   -1.234392\n",
      "28   -0.979288\n",
      "Name: #data, dtype: float64\n",
      "[[[-1.292071  ]\n",
      "  [-0.94309515]\n",
      "  [-0.66124135]]] 27   -1.234392\n",
      "28   -0.979288\n",
      "29   -0.764772\n",
      "Name: #data, dtype: float64\n",
      "[[[-1.0565877 ]\n",
      "  [-0.76583517]\n",
      "  [-0.45318183]]] 28   -0.979288\n",
      "29   -0.764772\n",
      "30   -0.637814\n",
      "Name: #data, dtype: float64\n",
      "[[[-0.8890618 ]\n",
      "  [-0.50719583]\n",
      "  [ 0.0814861 ]]] 29   -0.764772\n",
      "30   -0.637814\n",
      "31   -0.283995\n",
      "Name: #data, dtype: float64\n",
      "[[[-0.71824306]\n",
      "  [-0.2874618 ]\n",
      "  [ 0.15996654]]] 30   -0.637814\n",
      "31   -0.283995\n",
      "32    0.352907\n",
      "Name: #data, dtype: float64\n",
      "[[[-0.41417554]\n",
      "  [ 0.19433573]\n",
      "  [ 0.69084895]]] 31   -0.283995\n",
      "32    0.352907\n",
      "33    0.972542\n",
      "Name: #data, dtype: float64\n",
      "[[[0.19738376]\n",
      "  [0.7183117 ]\n",
      "  [1.0276952 ]]] 32    0.352907\n",
      "33    0.972542\n",
      "34    1.399385\n",
      "Name: #data, dtype: float64\n",
      "[[[0.8929377]\n",
      "  [1.2019048]\n",
      "  [1.2188823]]] 33    0.972542\n",
      "34    1.399385\n",
      "35    1.584642\n",
      "Name: #data, dtype: float64\n",
      "[[[1.4270667]\n",
      "  [1.3858113]\n",
      "  [1.2418088]]] 34    1.399385\n",
      "35    1.584642\n",
      "36    1.570091\n",
      "Name: #data, dtype: float64\n",
      "[[[1.6740059]\n",
      "  [1.3901087]\n",
      "  [1.1663693]]] 35    1.584642\n",
      "36    1.570091\n",
      "37    1.439674\n",
      "Name: #data, dtype: float64\n",
      "[[[1.6924164]\n",
      "  [1.2814575]\n",
      "  [1.0709932]]] 36    1.570091\n",
      "37    1.439674\n",
      "38    1.277976\n",
      "Name: #data, dtype: float64\n",
      "[[[1.5279714 ]\n",
      "  [1.1375906 ]\n",
      "  [0.96886826]]] 37    1.439674\n",
      "38    1.277976\n",
      "39    1.145068\n",
      "Name: #data, dtype: float64\n",
      "[[[1.2624286]\n",
      "  [1.0742425]\n",
      "  [1.038635 ]]] 38    1.277976\n",
      "39    1.145068\n",
      "40    1.068599\n",
      "Name: #data, dtype: float64\n",
      "[[[1.1463923]\n",
      "  [1.0636646]\n",
      "  [0.8463495]]] 39    1.145068\n",
      "40    1.068599\n",
      "41    0.887510\n",
      "Name: #data, dtype: float64\n"
     ]
    }
   ],
   "source": [
    "x = [] # train\n",
    "y = [] # test (answer)\n",
    "for i in range(0, 860):\n",
    "        tmpX = []\n",
    "        for j in range(0, 40):\n",
    "            tmpX.append(xts1[i+j])\n",
    "        x.append(tmpX)\n",
    "            \n",
    "        tmpY = []\n",
    "        for j in range(0,3):\n",
    "            tmpY.append(yts1[40+j+i])\n",
    "        y.append(tmpY)\n",
    "    \n",
    "\n",
    "x = np.array(x)\n",
    "y = np.array(y)\n",
    "x = x.reshape((x.shape[0], x.shape[1], 1))\n",
    "y = y.reshape((y.shape[0], y.shape[1], 1))\n",
    "\n",
    "\n",
    "m = Sequential()\n",
    "#100は分かりやすいよう。\n",
    "m.add(LSTM(100, activation='relu', input_shape=(40, 1)))\n",
    "m.add(RepeatVector(3)) \n",
    "m.add(LSTM(100, activation='relu', return_sequences=True))\n",
    "m.add(TimeDistributed(Dense(1)))\n",
    "m.compile(optimizer='adam', loss='mse')\n",
    "m.fit(x, y, epochs=1000, verbose=0)\n",
    "\n",
    "\n",
    "\n",
    "for i in range(0,20):\n",
    "    input = np.array(xts1[i:i+20]) \n",
    "    input = input.reshape((1,20,1))\n",
    "    yhat = m.predict(input)\n",
    "    print(yhat,yts1[i+20:i+23])"
   ]
  },
  {
   "cell_type": "code",
   "execution_count": 64,
   "metadata": {},
   "outputs": [
    {
     "ename": "ValueError",
     "evalue": "cannot reshape array of size 40 into shape (1,4,1)",
     "output_type": "error",
     "traceback": [
      "\u001b[1;31m---------------------------------------------------------------------------\u001b[0m",
      "\u001b[1;31mValueError\u001b[0m                                Traceback (most recent call last)",
      "\u001b[1;32m~\\AppData\\Local\\Temp/ipykernel_15528/117668134.py\u001b[0m in \u001b[0;36m<module>\u001b[1;34m\u001b[0m\n\u001b[0;32m     32\u001b[0m \u001b[1;32mfor\u001b[0m \u001b[0mi\u001b[0m \u001b[1;32min\u001b[0m \u001b[0mrange\u001b[0m\u001b[1;33m(\u001b[0m\u001b[1;36m0\u001b[0m\u001b[1;33m,\u001b[0m\u001b[1;36m20\u001b[0m\u001b[1;33m)\u001b[0m\u001b[1;33m:\u001b[0m\u001b[1;33m\u001b[0m\u001b[1;33m\u001b[0m\u001b[0m\n\u001b[0;32m     33\u001b[0m     \u001b[0minput\u001b[0m \u001b[1;33m=\u001b[0m \u001b[0mnp\u001b[0m\u001b[1;33m.\u001b[0m\u001b[0marray\u001b[0m\u001b[1;33m(\u001b[0m\u001b[0mxts1\u001b[0m\u001b[1;33m[\u001b[0m\u001b[0mi\u001b[0m\u001b[1;33m:\u001b[0m\u001b[0mi\u001b[0m\u001b[1;33m+\u001b[0m\u001b[1;36m40\u001b[0m\u001b[1;33m]\u001b[0m\u001b[1;33m)\u001b[0m\u001b[1;33m\u001b[0m\u001b[1;33m\u001b[0m\u001b[0m\n\u001b[1;32m---> 34\u001b[1;33m     \u001b[0minput\u001b[0m \u001b[1;33m=\u001b[0m \u001b[0minput\u001b[0m\u001b[1;33m.\u001b[0m\u001b[0mreshape\u001b[0m\u001b[1;33m(\u001b[0m\u001b[1;33m(\u001b[0m\u001b[1;36m1\u001b[0m\u001b[1;33m,\u001b[0m\u001b[1;36m4\u001b[0m\u001b[1;33m,\u001b[0m\u001b[1;36m1\u001b[0m\u001b[1;33m)\u001b[0m\u001b[1;33m)\u001b[0m\u001b[1;33m\u001b[0m\u001b[1;33m\u001b[0m\u001b[0m\n\u001b[0m\u001b[0;32m     35\u001b[0m     \u001b[0myhat\u001b[0m \u001b[1;33m=\u001b[0m \u001b[0mm\u001b[0m\u001b[1;33m.\u001b[0m\u001b[0mpredict\u001b[0m\u001b[1;33m(\u001b[0m\u001b[0minput\u001b[0m\u001b[1;33m)\u001b[0m\u001b[1;33m\u001b[0m\u001b[1;33m\u001b[0m\u001b[0m\n\u001b[0;32m     36\u001b[0m     \u001b[0mprint\u001b[0m\u001b[1;33m(\u001b[0m\u001b[0myhat\u001b[0m\u001b[1;33m,\u001b[0m\u001b[0myts1\u001b[0m\u001b[1;33m[\u001b[0m\u001b[0mi\u001b[0m\u001b[1;33m+\u001b[0m\u001b[1;36m40\u001b[0m\u001b[1;33m:\u001b[0m\u001b[0mi\u001b[0m\u001b[1;33m+\u001b[0m\u001b[1;36m43\u001b[0m\u001b[1;33m]\u001b[0m\u001b[1;33m)\u001b[0m\u001b[1;33m\u001b[0m\u001b[1;33m\u001b[0m\u001b[0m\n",
      "\u001b[1;31mValueError\u001b[0m: cannot reshape array of size 40 into shape (1,4,1)"
     ]
    }
   ],
   "source": [
    "x = [] # train\n",
    "y = [] # test (answer)\n",
    "for i in range(0, 860):\n",
    "        tmpX = []\n",
    "        for j in range(0, 40):\n",
    "            tmpX.append(xts1[i+j])\n",
    "        x.append(tmpX)\n",
    "            \n",
    "        tmpY = []\n",
    "        for j in range(0,3):\n",
    "            tmpY.append(yts1[40+j+i])\n",
    "        y.append(tmpY)\n",
    "    \n",
    "\n",
    "x = np.array(x)\n",
    "y = np.array(y)\n",
    "x = x.reshape((x.shape[0], x.shape[1], 1))\n",
    "y = y.reshape((y.shape[0], y.shape[1], 1))\n",
    "\n",
    "\n",
    "m = Sequential()\n",
    "#100は分かりやすいよう。\n",
    "m.add(LSTM(100, activation='relu', input_shape=(40, 1)))\n",
    "m.add(RepeatVector(3)) \n",
    "m.add(LSTM(100, activation='relu', return_sequences=True))\n",
    "m.add(TimeDistributed(Dense(1)))\n",
    "m.compile(optimizer='adam', loss='mse')\n",
    "m.fit(x, y, epochs=1000, verbose=0)\n"
   ]
  },
  {
   "cell_type": "code",
   "execution_count": 66,
   "metadata": {},
   "outputs": [
    {
     "name": "stdout",
     "output_type": "stream",
     "text": [
      "[[[1.0625844]\n",
      "  [0.8754732]\n",
      "  [0.5155005]]] 40    1.068599\n",
      "41    0.887510\n",
      "42    0.569331\n",
      "Name: #data, dtype: float64\n",
      "[[[0.9121866 ]\n",
      "  [0.577496  ]\n",
      "  [0.25495818]]] 41    0.887510\n",
      "42    0.569331\n",
      "43    0.262382\n",
      "Name: #data, dtype: float64\n",
      "[[[0.5705904]\n",
      "  [0.2629382]\n",
      "  [0.0463746]]] 42    0.569331\n",
      "43    0.262382\n",
      "44    0.052546\n",
      "Name: #data, dtype: float64\n",
      "[[[ 0.267     ]\n",
      "  [ 0.06129148]\n",
      "  [-0.03619442]]] 43    0.262382\n",
      "44    0.052546\n",
      "45   -0.037122\n",
      "Name: #data, dtype: float64\n",
      "[[[ 0.05413368]\n",
      "  [-0.02517495]\n",
      "  [-0.01527497]]] 44    0.052546\n",
      "45   -0.037122\n",
      "46   -0.028133\n",
      "Name: #data, dtype: float64\n",
      "[[[-0.03830353]\n",
      "  [-0.01719501]\n",
      "  [ 0.05239219]]] 45   -0.037122\n",
      "46   -0.028133\n",
      "47    0.037535\n",
      "Name: #data, dtype: float64\n",
      "[[[-0.02671372]\n",
      "  [ 0.04007053]\n",
      "  [ 0.12909356]]] 46   -0.028133\n",
      "47    0.037535\n",
      "48    0.117954\n",
      "Name: #data, dtype: float64\n",
      "[[[0.03473824]\n",
      "  [0.10970549]\n",
      "  [0.18694769]]] 47    0.037535\n",
      "48    0.117954\n",
      "49    0.183569\n",
      "Name: #data, dtype: float64\n",
      "[[[0.10978939]\n",
      "  [0.18625106]\n",
      "  [0.23459552]]] 48    0.117954\n",
      "49    0.183569\n",
      "50    0.220967\n",
      "Name: #data, dtype: float64\n",
      "[[[0.1851962 ]\n",
      "  [0.20891598]\n",
      "  [0.14330925]]] 49    0.183569\n",
      "50    0.220967\n",
      "51    0.144009\n",
      "Name: #data, dtype: float64\n",
      "[[[ 0.23439841]\n",
      "  [ 0.15820771]\n",
      "  [-0.13629258]]] 50    0.220967\n",
      "51    0.144009\n",
      "52   -0.047431\n",
      "Name: #data, dtype: float64\n",
      "[[[ 0.1716161 ]\n",
      "  [-0.06564494]\n",
      "  [-0.2768878 ]]] 51    0.144009\n",
      "52   -0.047431\n",
      "53   -0.251355\n",
      "Name: #data, dtype: float64\n",
      "[[[-0.028017  ]\n",
      "  [-0.25530514]\n",
      "  [-0.4170907 ]]] 52   -0.047431\n",
      "53   -0.251355\n",
      "54   -0.402754\n",
      "Name: #data, dtype: float64\n",
      "[[[-0.24458311]\n",
      "  [-0.39937115]\n",
      "  [-0.48056567]]] 53   -0.251355\n",
      "54   -0.402754\n",
      "55   -0.478000\n",
      "Name: #data, dtype: float64\n",
      "[[[-0.40076697]\n",
      "  [-0.4759396 ]\n",
      "  [-0.48689976]]] 54   -0.402754\n",
      "55   -0.478000\n",
      "56   -0.485302\n",
      "Name: #data, dtype: float64\n",
      "[[[-0.47742644]\n",
      "  [-0.48020753]\n",
      "  [-0.43552926]]] 55   -0.478000\n",
      "56   -0.485302\n",
      "57   -0.449598\n",
      "Name: #data, dtype: float64\n",
      "[[[-0.47573918]\n",
      "  [-0.43805894]\n",
      "  [-0.3810149 ]]] 56   -0.485302\n",
      "57   -0.449598\n",
      "58   -0.398544\n",
      "Name: #data, dtype: float64\n",
      "[[[-0.4394476 ]\n",
      "  [-0.38659415]\n",
      "  [-0.3359592 ]]] 57   -0.449598\n",
      "58   -0.398544\n",
      "59   -0.353289\n",
      "Name: #data, dtype: float64\n",
      "[[[-0.38916066]\n",
      "  [-0.34056765]\n",
      "  [-0.32315487]]] 58   -0.398544\n",
      "59   -0.353289\n",
      "60   -0.324843\n",
      "Name: #data, dtype: float64\n",
      "[[[-0.34948233]\n",
      "  [-0.33681852]\n",
      "  [-0.35904124]]] 59   -0.353289\n",
      "60   -0.324843\n",
      "61   -0.393542\n",
      "Name: #data, dtype: float64\n"
     ]
    }
   ],
   "source": [
    "for i in range(0,20):\n",
    "    input = np.array(xts1[i:i+40])\n",
    "    input = input.reshape((1,40,1))\n",
    "    yhat = m.predict(input)\n",
    "    print(yhat,yts1[i+40:i+43])\n",
    "    s=(yts1[i+20]) ** 2 - (yhat) ** 2\n",
    "    t =+s\n",
    "    \n",
    "e=t/20\n",
    "e = (e[0,0]+e[0,1]+e[0,2])\n",
    "e = e[0]/3\n",
    "print(e)"
   ]
  },
  {
   "cell_type": "code",
   "execution_count": 68,
   "metadata": {},
   "outputs": [
    {
     "name": "stdout",
     "output_type": "stream",
     "text": [
      "WARNING:tensorflow:Model was constructed with shape (None, 40, 1) for input KerasTensor(type_spec=TensorSpec(shape=(None, 40, 1), dtype=tf.float32, name='lstm_22_input'), name='lstm_22_input', description=\"created by layer 'lstm_22_input'\"), but it was called on an input with incompatible shape (None, 20, 1).\n",
      "0.031221861640612285\n"
     ]
    }
   ],
   "source": [
    "for i in range(0,20):\n",
    "    input = np.array(xts1[i:i+20]) \n",
    "    input = input.reshape((1,20,1))\n",
    "    yhat = m.predict(input)\n",
    "    s=(yts1[i+20]) ** 2 - (yhat) ** 2\n",
    "    t =+s\n",
    "    \n",
    "e=t/20\n",
    "e = (e[0,0]+e[0,1]+e[0,2])\n",
    "e = e[0]/3\n",
    "print(e)"
   ]
  },
  {
   "cell_type": "code",
   "execution_count": 67,
   "metadata": {},
   "outputs": [
    {
     "name": "stdout",
     "output_type": "stream",
     "text": [
      "0.00016571790911257267\n"
     ]
    }
   ],
   "source": [
    "for i in range(0,20):\n",
    "    input = np.array(xts1[i:i+40]) \n",
    "    input = input.reshape((1,40,1))\n",
    "    yhat = m.predict(input)\n",
    "    s=(yts1[i+40]) ** 2 - (yhat) ** 2\n",
    "    t =+s\n",
    "    \n",
    "e=t/20\n",
    "e = (e[0,0]+e[0,1]+e[0,2])\n",
    "e = e[0]/3\n",
    "print(e)"
   ]
  },
  {
   "cell_type": "code",
   "execution_count": 74,
   "metadata": {},
   "outputs": [
    {
     "ename": "KeyboardInterrupt",
     "evalue": "",
     "output_type": "error",
     "traceback": [
      "\u001b[1;31m---------------------------------------------------------------------------\u001b[0m",
      "\u001b[1;31mKeyboardInterrupt\u001b[0m                         Traceback (most recent call last)",
      "\u001b[1;32m~\\AppData\\Local\\Temp/ipykernel_15528/3565229281.py\u001b[0m in \u001b[0;36m<module>\u001b[1;34m\u001b[0m\n\u001b[0;32m     26\u001b[0m \u001b[0mm\u001b[0m\u001b[1;33m.\u001b[0m\u001b[0madd\u001b[0m\u001b[1;33m(\u001b[0m\u001b[0mTimeDistributed\u001b[0m\u001b[1;33m(\u001b[0m\u001b[0mDense\u001b[0m\u001b[1;33m(\u001b[0m\u001b[1;36m1\u001b[0m\u001b[1;33m)\u001b[0m\u001b[1;33m)\u001b[0m\u001b[1;33m)\u001b[0m\u001b[1;33m\u001b[0m\u001b[1;33m\u001b[0m\u001b[0m\n\u001b[0;32m     27\u001b[0m \u001b[0mm\u001b[0m\u001b[1;33m.\u001b[0m\u001b[0mcompile\u001b[0m\u001b[1;33m(\u001b[0m\u001b[0moptimizer\u001b[0m\u001b[1;33m=\u001b[0m\u001b[1;34m'adam'\u001b[0m\u001b[1;33m,\u001b[0m \u001b[0mloss\u001b[0m\u001b[1;33m=\u001b[0m\u001b[1;34m'mse'\u001b[0m\u001b[1;33m)\u001b[0m\u001b[1;33m\u001b[0m\u001b[1;33m\u001b[0m\u001b[0m\n\u001b[1;32m---> 28\u001b[1;33m \u001b[0mm\u001b[0m\u001b[1;33m.\u001b[0m\u001b[0mfit\u001b[0m\u001b[1;33m(\u001b[0m\u001b[0mx\u001b[0m\u001b[1;33m,\u001b[0m \u001b[0my\u001b[0m\u001b[1;33m,\u001b[0m \u001b[0mepochs\u001b[0m\u001b[1;33m=\u001b[0m\u001b[1;36m1000\u001b[0m\u001b[1;33m,\u001b[0m \u001b[0mverbose\u001b[0m\u001b[1;33m=\u001b[0m\u001b[1;36m0\u001b[0m\u001b[1;33m)\u001b[0m\u001b[1;33m\u001b[0m\u001b[1;33m\u001b[0m\u001b[0m\n\u001b[0m\u001b[0;32m     29\u001b[0m \u001b[1;33m\u001b[0m\u001b[0m\n\u001b[0;32m     30\u001b[0m \u001b[1;32mfor\u001b[0m \u001b[0mi\u001b[0m \u001b[1;32min\u001b[0m \u001b[0mrange\u001b[0m\u001b[1;33m(\u001b[0m\u001b[1;36m0\u001b[0m\u001b[1;33m,\u001b[0m\u001b[1;36m20\u001b[0m\u001b[1;33m)\u001b[0m\u001b[1;33m:\u001b[0m\u001b[1;33m\u001b[0m\u001b[1;33m\u001b[0m\u001b[0m\n",
      "\u001b[1;32m~\\AppData\\Roaming\\Python\\Python38\\site-packages\\keras\\engine\\training.py\u001b[0m in \u001b[0;36mfit\u001b[1;34m(self, x, y, batch_size, epochs, verbose, callbacks, validation_split, validation_data, shuffle, class_weight, sample_weight, initial_epoch, steps_per_epoch, validation_steps, validation_batch_size, validation_freq, max_queue_size, workers, use_multiprocessing)\u001b[0m\n\u001b[0;32m   1182\u001b[0m                 _r=1):\n\u001b[0;32m   1183\u001b[0m               \u001b[0mcallbacks\u001b[0m\u001b[1;33m.\u001b[0m\u001b[0mon_train_batch_begin\u001b[0m\u001b[1;33m(\u001b[0m\u001b[0mstep\u001b[0m\u001b[1;33m)\u001b[0m\u001b[1;33m\u001b[0m\u001b[1;33m\u001b[0m\u001b[0m\n\u001b[1;32m-> 1184\u001b[1;33m               \u001b[0mtmp_logs\u001b[0m \u001b[1;33m=\u001b[0m \u001b[0mself\u001b[0m\u001b[1;33m.\u001b[0m\u001b[0mtrain_function\u001b[0m\u001b[1;33m(\u001b[0m\u001b[0miterator\u001b[0m\u001b[1;33m)\u001b[0m\u001b[1;33m\u001b[0m\u001b[1;33m\u001b[0m\u001b[0m\n\u001b[0m\u001b[0;32m   1185\u001b[0m               \u001b[1;32mif\u001b[0m \u001b[0mdata_handler\u001b[0m\u001b[1;33m.\u001b[0m\u001b[0mshould_sync\u001b[0m\u001b[1;33m:\u001b[0m\u001b[1;33m\u001b[0m\u001b[1;33m\u001b[0m\u001b[0m\n\u001b[0;32m   1186\u001b[0m                 \u001b[0mcontext\u001b[0m\u001b[1;33m.\u001b[0m\u001b[0masync_wait\u001b[0m\u001b[1;33m(\u001b[0m\u001b[1;33m)\u001b[0m\u001b[1;33m\u001b[0m\u001b[1;33m\u001b[0m\u001b[0m\n",
      "\u001b[1;32m~\\AppData\\Roaming\\Python\\Python38\\site-packages\\tensorflow\\python\\eager\\def_function.py\u001b[0m in \u001b[0;36m__call__\u001b[1;34m(self, *args, **kwds)\u001b[0m\n\u001b[0;32m    883\u001b[0m \u001b[1;33m\u001b[0m\u001b[0m\n\u001b[0;32m    884\u001b[0m       \u001b[1;32mwith\u001b[0m \u001b[0mOptionalXlaContext\u001b[0m\u001b[1;33m(\u001b[0m\u001b[0mself\u001b[0m\u001b[1;33m.\u001b[0m\u001b[0m_jit_compile\u001b[0m\u001b[1;33m)\u001b[0m\u001b[1;33m:\u001b[0m\u001b[1;33m\u001b[0m\u001b[1;33m\u001b[0m\u001b[0m\n\u001b[1;32m--> 885\u001b[1;33m         \u001b[0mresult\u001b[0m \u001b[1;33m=\u001b[0m \u001b[0mself\u001b[0m\u001b[1;33m.\u001b[0m\u001b[0m_call\u001b[0m\u001b[1;33m(\u001b[0m\u001b[1;33m*\u001b[0m\u001b[0margs\u001b[0m\u001b[1;33m,\u001b[0m \u001b[1;33m**\u001b[0m\u001b[0mkwds\u001b[0m\u001b[1;33m)\u001b[0m\u001b[1;33m\u001b[0m\u001b[1;33m\u001b[0m\u001b[0m\n\u001b[0m\u001b[0;32m    886\u001b[0m \u001b[1;33m\u001b[0m\u001b[0m\n\u001b[0;32m    887\u001b[0m       \u001b[0mnew_tracing_count\u001b[0m \u001b[1;33m=\u001b[0m \u001b[0mself\u001b[0m\u001b[1;33m.\u001b[0m\u001b[0mexperimental_get_tracing_count\u001b[0m\u001b[1;33m(\u001b[0m\u001b[1;33m)\u001b[0m\u001b[1;33m\u001b[0m\u001b[1;33m\u001b[0m\u001b[0m\n",
      "\u001b[1;32m~\\AppData\\Roaming\\Python\\Python38\\site-packages\\tensorflow\\python\\eager\\def_function.py\u001b[0m in \u001b[0;36m_call\u001b[1;34m(self, *args, **kwds)\u001b[0m\n\u001b[0;32m    915\u001b[0m       \u001b[1;31m# In this case we have created variables on the first call, so we run the\u001b[0m\u001b[1;33m\u001b[0m\u001b[1;33m\u001b[0m\u001b[1;33m\u001b[0m\u001b[0m\n\u001b[0;32m    916\u001b[0m       \u001b[1;31m# defunned version which is guaranteed to never create variables.\u001b[0m\u001b[1;33m\u001b[0m\u001b[1;33m\u001b[0m\u001b[1;33m\u001b[0m\u001b[0m\n\u001b[1;32m--> 917\u001b[1;33m       \u001b[1;32mreturn\u001b[0m \u001b[0mself\u001b[0m\u001b[1;33m.\u001b[0m\u001b[0m_stateless_fn\u001b[0m\u001b[1;33m(\u001b[0m\u001b[1;33m*\u001b[0m\u001b[0margs\u001b[0m\u001b[1;33m,\u001b[0m \u001b[1;33m**\u001b[0m\u001b[0mkwds\u001b[0m\u001b[1;33m)\u001b[0m  \u001b[1;31m# pylint: disable=not-callable\u001b[0m\u001b[1;33m\u001b[0m\u001b[1;33m\u001b[0m\u001b[0m\n\u001b[0m\u001b[0;32m    918\u001b[0m     \u001b[1;32melif\u001b[0m \u001b[0mself\u001b[0m\u001b[1;33m.\u001b[0m\u001b[0m_stateful_fn\u001b[0m \u001b[1;32mis\u001b[0m \u001b[1;32mnot\u001b[0m \u001b[1;32mNone\u001b[0m\u001b[1;33m:\u001b[0m\u001b[1;33m\u001b[0m\u001b[1;33m\u001b[0m\u001b[0m\n\u001b[0;32m    919\u001b[0m       \u001b[1;31m# Release the lock early so that multiple threads can perform the call\u001b[0m\u001b[1;33m\u001b[0m\u001b[1;33m\u001b[0m\u001b[1;33m\u001b[0m\u001b[0m\n",
      "\u001b[1;32m~\\AppData\\Roaming\\Python\\Python38\\site-packages\\tensorflow\\python\\eager\\function.py\u001b[0m in \u001b[0;36m__call__\u001b[1;34m(self, *args, **kwargs)\u001b[0m\n\u001b[0;32m   3037\u001b[0m       (graph_function,\n\u001b[0;32m   3038\u001b[0m        filtered_flat_args) = self._maybe_define_function(args, kwargs)\n\u001b[1;32m-> 3039\u001b[1;33m     return graph_function._call_flat(\n\u001b[0m\u001b[0;32m   3040\u001b[0m         filtered_flat_args, captured_inputs=graph_function.captured_inputs)  # pylint: disable=protected-access\n\u001b[0;32m   3041\u001b[0m \u001b[1;33m\u001b[0m\u001b[0m\n",
      "\u001b[1;32m~\\AppData\\Roaming\\Python\\Python38\\site-packages\\tensorflow\\python\\eager\\function.py\u001b[0m in \u001b[0;36m_call_flat\u001b[1;34m(self, args, captured_inputs, cancellation_manager)\u001b[0m\n\u001b[0;32m   1961\u001b[0m         and executing_eagerly):\n\u001b[0;32m   1962\u001b[0m       \u001b[1;31m# No tape is watching; skip to running the function.\u001b[0m\u001b[1;33m\u001b[0m\u001b[1;33m\u001b[0m\u001b[1;33m\u001b[0m\u001b[0m\n\u001b[1;32m-> 1963\u001b[1;33m       return self._build_call_outputs(self._inference_function.call(\n\u001b[0m\u001b[0;32m   1964\u001b[0m           ctx, args, cancellation_manager=cancellation_manager))\n\u001b[0;32m   1965\u001b[0m     forward_backward = self._select_forward_and_backward_functions(\n",
      "\u001b[1;32m~\\AppData\\Roaming\\Python\\Python38\\site-packages\\tensorflow\\python\\eager\\function.py\u001b[0m in \u001b[0;36mcall\u001b[1;34m(self, ctx, args, cancellation_manager)\u001b[0m\n\u001b[0;32m    589\u001b[0m       \u001b[1;32mwith\u001b[0m \u001b[0m_InterpolateFunctionError\u001b[0m\u001b[1;33m(\u001b[0m\u001b[0mself\u001b[0m\u001b[1;33m)\u001b[0m\u001b[1;33m:\u001b[0m\u001b[1;33m\u001b[0m\u001b[1;33m\u001b[0m\u001b[0m\n\u001b[0;32m    590\u001b[0m         \u001b[1;32mif\u001b[0m \u001b[0mcancellation_manager\u001b[0m \u001b[1;32mis\u001b[0m \u001b[1;32mNone\u001b[0m\u001b[1;33m:\u001b[0m\u001b[1;33m\u001b[0m\u001b[1;33m\u001b[0m\u001b[0m\n\u001b[1;32m--> 591\u001b[1;33m           outputs = execute.execute(\n\u001b[0m\u001b[0;32m    592\u001b[0m               \u001b[0mstr\u001b[0m\u001b[1;33m(\u001b[0m\u001b[0mself\u001b[0m\u001b[1;33m.\u001b[0m\u001b[0msignature\u001b[0m\u001b[1;33m.\u001b[0m\u001b[0mname\u001b[0m\u001b[1;33m)\u001b[0m\u001b[1;33m,\u001b[0m\u001b[1;33m\u001b[0m\u001b[1;33m\u001b[0m\u001b[0m\n\u001b[0;32m    593\u001b[0m               \u001b[0mnum_outputs\u001b[0m\u001b[1;33m=\u001b[0m\u001b[0mself\u001b[0m\u001b[1;33m.\u001b[0m\u001b[0m_num_outputs\u001b[0m\u001b[1;33m,\u001b[0m\u001b[1;33m\u001b[0m\u001b[1;33m\u001b[0m\u001b[0m\n",
      "\u001b[1;32m~\\AppData\\Roaming\\Python\\Python38\\site-packages\\tensorflow\\python\\eager\\execute.py\u001b[0m in \u001b[0;36mquick_execute\u001b[1;34m(op_name, num_outputs, inputs, attrs, ctx, name)\u001b[0m\n\u001b[0;32m     57\u001b[0m   \u001b[1;32mtry\u001b[0m\u001b[1;33m:\u001b[0m\u001b[1;33m\u001b[0m\u001b[1;33m\u001b[0m\u001b[0m\n\u001b[0;32m     58\u001b[0m     \u001b[0mctx\u001b[0m\u001b[1;33m.\u001b[0m\u001b[0mensure_initialized\u001b[0m\u001b[1;33m(\u001b[0m\u001b[1;33m)\u001b[0m\u001b[1;33m\u001b[0m\u001b[1;33m\u001b[0m\u001b[0m\n\u001b[1;32m---> 59\u001b[1;33m     tensors = pywrap_tfe.TFE_Py_Execute(ctx._handle, device_name, op_name,\n\u001b[0m\u001b[0;32m     60\u001b[0m                                         inputs, attrs, num_outputs)\n\u001b[0;32m     61\u001b[0m   \u001b[1;32mexcept\u001b[0m \u001b[0mcore\u001b[0m\u001b[1;33m.\u001b[0m\u001b[0m_NotOkStatusException\u001b[0m \u001b[1;32mas\u001b[0m \u001b[0me\u001b[0m\u001b[1;33m:\u001b[0m\u001b[1;33m\u001b[0m\u001b[1;33m\u001b[0m\u001b[0m\n",
      "\u001b[1;31mKeyboardInterrupt\u001b[0m: "
     ]
    }
   ],
   "source": [
    "x = [] # train\n",
    "y = [] # test (answer)\n",
    "for i in range(0,720):\n",
    "        tmpX = []\n",
    "        for j in range(0,200):\n",
    "            tmpX.append(xts1[i+j])\n",
    "        x.append(tmpX)\n",
    "            \n",
    "        tmpY = []\n",
    "        for j in range(0,3):\n",
    "            tmpY.append(yts1[200+j+i])\n",
    "        y.append(tmpY)\n",
    "    \n",
    "\n",
    "x = np.array(x)\n",
    "y = np.array(y)\n",
    "x = x.reshape((x.shape[0], x.shape[1], 1))\n",
    "y = y.reshape((y.shape[0], y.shape[1], 1))\n",
    "\n",
    "\n",
    "m = Sequential()\n",
    "#100は分かりやすいよう。\n",
    "m.add(LSTM(100, activation='relu', input_shape=(200, 1)))\n",
    "m.add(RepeatVector(3)) \n",
    "m.add(LSTM(100, activation='relu', return_sequences=True))\n",
    "m.add(TimeDistributed(Dense(1)))\n",
    "m.compile(optimizer='adam', loss='mse')\n",
    "m.fit(x, y, epochs=1000, verbose=0)\n",
    "\n",
    "for i in range(0,20):\n",
    "    input = np.array(xts1[i:i+200]) \n",
    "    input = input.reshape((1,200,1))\n",
    "    yhat = m.predict(input)\n",
    "    s=(yts1[i+200]) ** 2 - (yhat) ** 2\n",
    "    t =+s\n",
    "    \n",
    "e=t/20\n",
    "e = (e[0,0]+e[0,1]+e[0,2])\n",
    "e = e[0]/3\n",
    "print(e)"
   ]
  },
  {
   "cell_type": "code",
   "execution_count": null,
   "metadata": {},
   "outputs": [],
   "source": [
    "#1データ\n",
    "x = [] # train\n",
    "y = [] # test (answer)\n",
    "for i in range(0, 992):\n",
    "        tmpX = []\n",
    "        for j in range(0, 1):\n",
    "            tmpX.append(xts1[i+j])\n",
    "        x.append(tmpX)\n",
    "            \n",
    "        tmpY = []\n",
    "        for j in range(0,3):\n",
    "            tmpY.append(yts1[1+j+i])\n",
    "        y.append(tmpY)\n",
    "    \n",
    "\n",
    "x = np.array(x)\n",
    "y = np.array(y)\n",
    "x = x.reshape((x.shape[0], x.shape[1], 1))\n",
    "y = y.reshape((y.shape[0], y.shape[1], 1))\n",
    "\n",
    "\n",
    "m = Sequential()\n",
    "#100は分かりやすいよう。\n",
    "m.add(LSTM(100, activation='relu', input_shape=(1,1)))\n",
    "m.add(RepeatVector(3)) \n",
    "m.add(LSTM(100, activation='relu', return_sequences=True))\n",
    "m.add(TimeDistributed(Dense(1)))\n",
    "m.compile(optimizer='adam', loss='mse')\n",
    "m.fit(x, y, epochs=1000, verbose=0)\n",
    "\n",
    "for i in range(0,20):\n",
    "    input = np.array(xts1[i:i+1]) \n",
    "    input = input.reshape((1,1,1))\n",
    "    yhat = m.predict(input)\n",
    "    print(yhat,yts1[i+1:i+4])\n",
    "    s=(yts1[i+1]) ** 2 - (yhat) ** 2\n",
    "    t=+s\n",
    "        \n",
    "e=t/20\n",
    "e = (e[0,0]+e[0,1]+e[0,2])\n",
    "e = e[0]/3\n",
    "print(e)"
   ]
  },
  {
   "cell_type": "code",
   "execution_count": null,
   "metadata": {},
   "outputs": [],
   "source": [
    "#5データ\n",
    "x = [] # train\n",
    "y = [] # test (answer)\n",
    "for i in range(0, 900):\n",
    "        tmpX = []\n",
    "        for j in range(0, 5):\n",
    "            tmpX.append(xts1[i+j])\n",
    "        x.append(tmpX)\n",
    "            \n",
    "        tmpY = []\n",
    "        for j in range(0,3):\n",
    "            tmpY.append(yts1[5+j+i])\n",
    "        y.append(tmpY)\n",
    "    \n",
    "\n",
    "x = np.array(x)\n",
    "y = np.array(y)\n",
    "x = x.reshape((x.shape[0], x.shape[1], 1))\n",
    "y = y.reshape((y.shape[0], y.shape[1], 1))\n",
    "\n",
    "\n",
    "m = Sequential()\n",
    "#100は分かりやすいよう。\n",
    "m.add(LSTM(100, activation='relu', input_shape=(5, 1)))\n",
    "m.add(RepeatVector(3)) \n",
    "m.add(LSTM(100, activation='relu', return_sequences=True))\n",
    "m.add(TimeDistributed(Dense(1)))\n",
    "m.compile(optimizer='adam', loss='mse')\n",
    "m.fit(x, y, epochs=1000, verbose=0)\n",
    "\n",
    "for i in range(0,20):\n",
    "    input = np.array(xts1[i:i+5]) \n",
    "    input = input.reshape((1,5,1))\n",
    "    yhat = m.predict(input)\n",
    "    s=(yts1[i+5]) ** 2 - (yhat) ** 2\n",
    "    t=+s\n",
    "        \n",
    "e=t/20\n",
    "e = (e[0,0]+e[0,1]+e[0,2])\n",
    "e = e[0]/3\n",
    "print(e)"
   ]
  },
  {
   "cell_type": "code",
   "execution_count": null,
   "metadata": {},
   "outputs": [],
   "source": []
  }
 ],
 "metadata": {
  "kernelspec": {
   "display_name": "Python 3",
   "language": "python",
   "name": "python3"
  },
  "language_info": {
   "codemirror_mode": {
    "name": "ipython",
    "version": 3
   },
   "file_extension": ".py",
   "mimetype": "text/x-python",
   "name": "python",
   "nbconvert_exporter": "python",
   "pygments_lexer": "ipython3",
   "version": "3.8.5"
  }
 },
 "nbformat": 4,
 "nbformat_minor": 5
}
