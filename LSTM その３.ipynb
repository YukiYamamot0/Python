{
 "cells": [
  {
   "cell_type": "code",
   "execution_count": 5,
   "id": "2b50ebd3",
   "metadata": {},
   "outputs": [],
   "source": [
    "import numpy as np\n",
    "from keras.models import Sequential\n",
    "from keras.layers import Dense\n",
    "from keras.layers import LSTM\n",
    "from keras.layers import RepeatVector\n",
    "from keras.layers import TimeDistributed\n",
    "import pandas as pd\n",
    "from matplotlib import pylab as plt\n",
    "import seaborn as sns\n",
    "%matplotlib inline\n",
    "sns.set()"
   ]
  },
  {
   "cell_type": "code",
   "execution_count": 14,
   "id": "94c0e5b5",
   "metadata": {},
   "outputs": [],
   "source": [
    "xdf1 = pd.read_excel('data/xdata1.xlsx')\n",
    "xdf2 = pd.read_excel('data/xdata2.xlsx')\n",
    "ydf1 = pd.read_excel('data/ydata1.xlsx')\n",
    "ydf2 = pd.read_excel('data/ydata2.xlsx')"
   ]
  },
  {
   "cell_type": "code",
   "execution_count": 17,
   "id": "060e3d07",
   "metadata": {},
   "outputs": [],
   "source": [
    "xts1 = xdf1['#data']\n",
    "yts1 = ydf1['#data']\n",
    "xts2 = xdf2['#data']\n",
    "yts2 = ydf2['#data']"
   ]
  },
  {
   "cell_type": "code",
   "execution_count": 54,
   "id": "40417e6b",
   "metadata": {},
   "outputs": [
    {
     "data": {
      "text/plain": [
       "<keras.callbacks.History at 0x28735a53ca0>"
      ]
     },
     "execution_count": 54,
     "metadata": {},
     "output_type": "execute_result"
    }
   ],
   "source": [
    "x = [] # train\n",
    "y = [] # test (answer)\n",
    "for i in range(0, 88):\n",
    "        tmpX = []\n",
    "        for j in range(0, 10):\n",
    "            tmpX.append(xts1[i+j])\n",
    "        x.append(tmpX)\n",
    "            \n",
    "        tmpY = []\n",
    "        for j in range(0,1):\n",
    "            tmpY.append(yts1[10+j+i])\n",
    "        y.append(tmpY)\n",
    "    \n",
    "\n",
    "x = np.array(x)\n",
    "y = np.array(y)\n",
    "x = x.reshape((x.shape[0], x.shape[1], 1))\n",
    "y = y.reshape((y.shape[0], y.shape[1], 1))\n",
    "\n",
    "\n",
    "m = Sequential()\n",
    "#100は分かりやすいよう。\n",
    "m.add(LSTM(100, activation='relu', input_shape=(10, 1)))\n",
    "m.add(RepeatVector(1)) \n",
    "m.add(LSTM(100, activation='relu', return_sequences=True))\n",
    "m.add(TimeDistributed(Dense(1)))\n",
    "m.compile(optimizer='adam', loss='mse')\n",
    "m.fit(x, y, epochs=1000, verbose=0)"
   ]
  },
  {
   "cell_type": "code",
   "execution_count": 62,
   "id": "6fdcf1a7",
   "metadata": {},
   "outputs": [
    {
     "name": "stdout",
     "output_type": "stream",
     "text": [
      "[[[0.30166948]]] 0.30621521\n",
      "[[[0.59370077]]] 0.60179527\n",
      "[[[1.2361705]]] 1.2347079\n",
      "[[[1.8822087]]] 1.8841497\n",
      "[[[2.3556974]]] 2.3523475\n",
      "[[[2.576081]]] 2.5737296\n",
      "[[[2.581236]]] 2.5815242\n",
      "[[[2.450249]]] 2.4585884\n",
      "[[[2.2851756]]] 2.2932309\n",
      "[[[2.143436]]] 2.1510423\n",
      "[[[2.058451]]] 2.0646435\n",
      "[[[1.5383741]]] 1.5574684\n",
      "[[[0.56121373]]] 0.56683073\n",
      "[[[-0.42887393]]] -0.42290051\n",
      "[[[-1.1235425]]] -1.1207282\n",
      "[[[-1.4332036]]] -1.437599\n",
      "[[[-1.4260613]]] -1.4321095\n",
      "[[[-1.2296584]]] -1.2343923\n",
      "[[[-0.9735652]]] -0.97928762\n",
      "[[[-0.77204233]]] -0.76477249\n"
     ]
    }
   ],
   "source": [
    "for i in range(0,20):\n",
    "    input = np.array(xts1[i:i+10]) \n",
    "    input = input.reshape((1,10,1))\n",
    "    yhat = m.predict(input)\n",
    "    print(yhat,yts1[i+10])"
   ]
  },
  {
   "cell_type": "code",
   "execution_count": 68,
   "id": "5e66fd19",
   "metadata": {},
   "outputs": [
    {
     "data": {
      "text/plain": [
       "<keras.callbacks.History at 0x28735717040>"
      ]
     },
     "execution_count": 68,
     "metadata": {},
     "output_type": "execute_result"
    }
   ],
   "source": [
    "x = [] # train\n",
    "y = [] # test (answer)\n",
    "for i in range(0, 990):\n",
    "        tmpX = []\n",
    "        for j in range(0, 10):\n",
    "            tmpX.append(xts2[i+j])\n",
    "        x.append(tmpX)\n",
    "            \n",
    "        tmpY = []\n",
    "        for j in range(0,1):\n",
    "            tmpY.append(yts2[10+j+i])\n",
    "        y.append(tmpY)\n",
    "    \n",
    "\n",
    "x = np.array(x)\n",
    "y = np.array(y)\n",
    "x = x.reshape((x.shape[0], x.shape[1], 1))\n",
    "y = y.reshape((y.shape[0], y.shape[1], 1))\n",
    "\n",
    "\n",
    "m = Sequential()\n",
    "#100は分かりやすいよう。\n",
    "m.add(LSTM(100, activation='relu', input_shape=(10, 1)))\n",
    "m.add(RepeatVector(1)) \n",
    "m.add(LSTM(100, activation='relu', return_sequences=True))\n",
    "m.add(TimeDistributed(Dense(1)))\n",
    "m.compile(optimizer='adam', loss='mse')\n",
    "m.fit(x, y, epochs=1000, verbose=0)"
   ]
  },
  {
   "cell_type": "code",
   "execution_count": 70,
   "id": "5a322898",
   "metadata": {},
   "outputs": [
    {
     "name": "stdout",
     "output_type": "stream",
     "text": [
      "[[[0.0395866]]] 0.041049365\n",
      "[[[0.04988037]]] 0.051595199\n",
      "[[[0.0612945]]] 0.063197711\n",
      "[[[0.07380784]]] 0.075861883\n",
      "[[[0.08743682]]] 0.089604025\n",
      "[[[0.10216349]]] 0.10443983\n",
      "[[[0.11823914]]] 0.1203767\n",
      "[[[0.13539845]]] 0.13741078\n",
      "[[[0.1536816]]] 0.15552765\n",
      "[[[0.17320216]]] 0.17470478\n",
      "[[[0.19374958]]] 0.19491435\n",
      "[[[0.21510568]]] 0.21612515\n",
      "[[[0.23741218]]] 0.23830345\n",
      "[[[0.26063293]]] 0.26141266\n",
      "[[[0.28465208]]] 0.28541233\n",
      "[[[0.30953425]]] 0.31025692\n",
      "[[[0.33516094]]] 0.33589458\n",
      "[[[0.36125883]]] 0.3622662\n",
      "[[[0.3882203]]] 0.38930482\n",
      "[[[0.41601026]]] 0.41693515\n"
     ]
    }
   ],
   "source": [
    "for i in range(0,20):\n",
    "    input = np.array(xts2[i:i+10]) \n",
    "    input = input.reshape((1,10,1))\n",
    "    yhat = m.predict(input)\n",
    "    print(yhat,yts2[i+10])"
   ]
  },
  {
   "cell_type": "code",
   "execution_count": null,
   "id": "39e317d7",
   "metadata": {},
   "outputs": [],
   "source": []
  }
 ],
 "metadata": {
  "kernelspec": {
   "display_name": "Python 3 (ipykernel)",
   "language": "python",
   "name": "python3"
  },
  "language_info": {
   "codemirror_mode": {
    "name": "ipython",
    "version": 3
   },
   "file_extension": ".py",
   "mimetype": "text/x-python",
   "name": "python",
   "nbconvert_exporter": "python",
   "pygments_lexer": "ipython3",
   "version": "3.8.5"
  }
 },
 "nbformat": 4,
 "nbformat_minor": 5
}
